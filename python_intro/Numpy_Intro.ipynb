{
 "cells": [
  {
   "cell_type": "markdown",
   "metadata": {},
   "source": [
    "    Ben Christensen\n",
    "    Math 345\n",
    "    9/12/17"
   ]
  },
  {
   "cell_type": "code",
   "execution_count": 1,
   "metadata": {
    "collapsed": true
   },
   "outputs": [],
   "source": [
    "import numpy as np\n",
    "\n",
    "\n",
    "def prob1():\n",
    "    \"\"\"Define the matrices A and B as arrays. Return the matrix product AB.\"\"\"\n",
    "    A = np.array( [ [3, -1, 4], [1, 5, -9] ])\n",
    "    B = np.array( [ [2, 6, -5, 3], [5, -8, 9, 7], [9, -3, -2, -3] ] )\n",
    "    return np.dot(A, B)\n",
    "    #We could also \"return A @ B\" for the same result\n",
    "\n",
    "\n",
    "\n",
    "def prob2():\n",
    "    \"\"\"Define the matrix A as an array. Return the matrix -A^3 + 9A^2 - 15A.\"\"\"\n",
    "    A = np.array( [ [3, 1, 4], [1, 5, 9], [-5, 3, 1] ] )\n",
    "    return -(A @ A @ A) + 9*A @ A - 15*A\n",
    "\n",
    "\n",
    "def prob3():\n",
    "    \"\"\"Define the matrices A and B as arrays. Calculate the matrix product ABA,\n",
    "    change its data type to np.int64, and return it.\n",
    "    \"\"\"\n",
    "    A = np.triu(np.full((7, 7), 1))\n",
    "    B = np.tril(np.full((7, 7), -1)) + np.triu(np.full((7, 7), 5)) - 5*np.eye(7)\n",
    "    answer = A @ B @ A\n",
    "    return answer.astype(np.int64)\n",
    "\n",
    "\n",
    "\n",
    "def prob4(A):\n",
    "    \"\"\"Make a copy of 'A' and set all negative entries of the copy to 0.\n",
    "    Return the copy.\n",
    "\n",
    "    Example:\n",
    "        >>> A = np.array([-3,-1,3])\n",
    "        >>> prob4(A)\n",
    "        array([0, 0, 3])\n",
    "    \"\"\"\n",
    "    copy_A = np.copy(A)\n",
    "    mask = copy_A < 0\n",
    "    copy_A[mask] = 0\n",
    "    return copy_A\n",
    "\n",
    "\n",
    "def prob5():\n",
    "    \"\"\"Define the matrices A, B, and C as arrays. Return the block matrix\n",
    "                                | 0 A^T I |\n",
    "                                | A  0  0 |,\n",
    "                                | B  0  C |\n",
    "    where I is the 3x3 identity matrix and each 0 is a matrix of all zeros\n",
    "    of the appropriate size.\n",
    "    \"\"\"\n",
    "    A = np.vstack((np.arange(0, 6, 2), np.arange(1, 6, 2)))\n",
    "    B = np.zeros((3, 3)) + np.tril(np.full((3, 3), 3))\n",
    "    C = -2 * np.eye(3)\n",
    "\n",
    "    return np.hstack((np.vstack((np.zeros((3, 3)), A, B)), np.vstack((A.T, np.zeros((2, 2)), np.zeros((3, 2)))), np.vstack((np.eye(3), np.zeros((2, 3)), C))))\n",
    "\n",
    "def prob6(A):\n",
    "    \"\"\"Divide each row of 'A' by the row sum and return the resulting array.\n",
    "\n",
    "    Example:\n",
    "        >>> A = np.array([[1,1,0],[0,1,0],[1,1,1]])\n",
    "        >>> prob6(A)\n",
    "        array([[ 0.5       ,  0.5       ,  0.        ],\n",
    "               [ 0.        ,  1.        ,  0.        ],\n",
    "               [ 0.33333333,  0.33333333,  0.33333333]])\n",
    "    \"\"\"\n",
    "    return A / A.sum(axis=1).reshape((-1,1))\n",
    "\n",
    "\n",
    "def prob7():\n",
    "    \"\"\"Given the array stored in grid.npy, return the greatest product of four\n",
    "    adjacent numbers in the same direction (up, down, left, right, or\n",
    "    diagonally) in the grid.\n",
    "    \"\"\"\n",
    "    grid = np.load(\"/Users/benchristensen/Desktop/ACME Python Labs/Volume1-Student-Materials/NumpyIntro/grid.npy\")\n",
    "    Horizontal = grid[:, :-3] * grid[:, 1:-2] * grid[:, 2:-1] * grid[:, 3:]\n",
    "    Vertical = grid[:-3,:] * grid[1:-2, :] * grid[2:-1, :] * grid[3:, :]\n",
    "    left_Diagonal = grid[:-3, :-3] * grid[1:-2, 1:-2] * grid[2:-1, 2:-1] * grid[3:, 3:]\n",
    "    right_Diagonal = grid[3:, :-3] * grid[2:-1, 1:-2] * grid[1:-2, 2:-1] * grid[:-3, 3:]\n",
    "    return max(np.max(Horizontal), np.max(Vertical), np.max(left_Diagonal), np.max(right_Diagonal))\n"
   ]
  },
  {
   "cell_type": "code",
   "execution_count": 2,
   "metadata": {},
   "outputs": [
    {
     "data": {
      "text/plain": [
       "array([[ 37,  14, -32, -10],\n",
       "       [-54,  -7,  58,  65]])"
      ]
     },
     "execution_count": 2,
     "metadata": {},
     "output_type": "execute_result"
    }
   ],
   "source": [
    "prob1()"
   ]
  },
  {
   "cell_type": "code",
   "execution_count": 3,
   "metadata": {},
   "outputs": [
    {
     "data": {
      "text/plain": [
       "array([[0, 0, 0],\n",
       "       [0, 0, 0],\n",
       "       [0, 0, 0]])"
      ]
     },
     "execution_count": 3,
     "metadata": {},
     "output_type": "execute_result"
    }
   ],
   "source": [
    "prob2()"
   ]
  },
  {
   "cell_type": "code",
   "execution_count": 4,
   "metadata": {},
   "outputs": [
    {
     "data": {
      "text/plain": [
       "array([[ -7,  -8,  -3,   8,  25,  48,  77],\n",
       "       [ -6, -12, -12,  -6,   6,  24,  48],\n",
       "       [ -5, -10, -15, -14,  -7,   6,  25],\n",
       "       [ -4,  -8, -12, -16, -14,  -6,   8],\n",
       "       [ -3,  -6,  -9, -12, -15, -12,  -3],\n",
       "       [ -2,  -4,  -6,  -8, -10, -12,  -8],\n",
       "       [ -1,  -2,  -3,  -4,  -5,  -6,  -7]])"
      ]
     },
     "execution_count": 4,
     "metadata": {},
     "output_type": "execute_result"
    }
   ],
   "source": [
    "prob3()"
   ]
  },
  {
   "cell_type": "code",
   "execution_count": 5,
   "metadata": {},
   "outputs": [
    {
     "data": {
      "text/plain": [
       "array([[  0.,   0.,   0.],\n",
       "       [  1.,   2.,   3.],\n",
       "       [  0.,   0.,  49.]])"
      ]
     },
     "execution_count": 5,
     "metadata": {},
     "output_type": "execute_result"
    }
   ],
   "source": [
    "A = np.array([[-1, -2, -3],\n",
    "              [1, 2, 3],\n",
    "              [0, -.6, 49]])\n",
    "prob4(A)\n"
   ]
  },
  {
   "cell_type": "code",
   "execution_count": 6,
   "metadata": {},
   "outputs": [
    {
     "data": {
      "text/plain": [
       "array([[ 0.,  0.,  0.,  0.,  1.,  1.,  0.,  0.],\n",
       "       [ 0.,  0.,  0.,  2.,  3.,  0.,  1.,  0.],\n",
       "       [ 0.,  0.,  0.,  4.,  5.,  0.,  0.,  1.],\n",
       "       [ 0.,  2.,  4.,  0.,  0.,  0.,  0.,  0.],\n",
       "       [ 1.,  3.,  5.,  0.,  0.,  0.,  0.,  0.],\n",
       "       [ 3.,  0.,  0.,  0.,  0., -2., -0., -0.],\n",
       "       [ 3.,  3.,  0.,  0.,  0., -0., -2., -0.],\n",
       "       [ 3.,  3.,  3.,  0.,  0., -0., -0., -2.]])"
      ]
     },
     "execution_count": 6,
     "metadata": {},
     "output_type": "execute_result"
    }
   ],
   "source": [
    "prob5()"
   ]
  },
  {
   "cell_type": "code",
   "execution_count": 7,
   "metadata": {},
   "outputs": [
    {
     "data": {
      "text/plain": [
       "array([[ 0.16666667,  0.33333333,  0.5       ],\n",
       "       [ 0.16666667,  0.33333333,  0.5       ],\n",
       "       [ 0.        , -0.01239669,  1.01239669]])"
      ]
     },
     "execution_count": 7,
     "metadata": {},
     "output_type": "execute_result"
    }
   ],
   "source": [
    "prob6(A)"
   ]
  },
  {
   "cell_type": "code",
   "execution_count": 8,
   "metadata": {},
   "outputs": [
    {
     "data": {
      "text/plain": [
       "70600674"
      ]
     },
     "execution_count": 8,
     "metadata": {},
     "output_type": "execute_result"
    }
   ],
   "source": [
    "prob7()"
   ]
  }
 ],
 "metadata": {
  "kernelspec": {
   "display_name": "Python 3",
   "language": "python",
   "name": "python3"
  },
  "language_info": {
   "codemirror_mode": {
    "name": "ipython",
    "version": 3
   },
   "file_extension": ".py",
   "mimetype": "text/x-python",
   "name": "python",
   "nbconvert_exporter": "python",
   "pygments_lexer": "ipython3",
   "version": "3.6.1"
  }
 },
 "nbformat": 4,
 "nbformat_minor": 2
}
