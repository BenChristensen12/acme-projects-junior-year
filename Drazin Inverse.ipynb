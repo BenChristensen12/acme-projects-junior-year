{
 "cells": [
  {
   "cell_type": "markdown",
   "metadata": {},
   "source": [
    "    Ben Christensen\n",
    "    Math 347\n",
    "    April 3, 2018"
   ]
  },
  {
   "cell_type": "markdown",
   "metadata": {},
   "source": [
    "Code the Drazin Inverse and use it to predict links in a network"
   ]
  },
  {
   "cell_type": "code",
   "execution_count": 5,
   "metadata": {
    "collapsed": true
   },
   "outputs": [],
   "source": [
    "import numpy as np\n",
    "from scipy import linalg as la\n",
    "import csv"
   ]
  },
  {
   "cell_type": "code",
   "execution_count": 6,
   "metadata": {
    "collapsed": true
   },
   "outputs": [],
   "source": [
    "# Helper function for problems 1 and 2.\n",
    "def index(A, tol=1e-5):\n",
    "    \"\"\"Compute the index of the matrix A.\n",
    "\n",
    "    Parameters:\n",
    "        A ((n,n) ndarray): An nxn matrix.\n",
    "\n",
    "    Returns:\n",
    "        k (int): The index of A.\n",
    "    \"\"\"\n",
    "\n",
    "    # test for non-singularity\n",
    "    if not np.allclose(la.det(A),0):\n",
    "        return 0\n",
    "\n",
    "    n = len(A)\n",
    "    k = 1\n",
    "    Ak = A.copy()\n",
    "    while k <= n:\n",
    "        r1 = np.linalg.matrix_rank(Ak)\n",
    "        r2 = np.linalg.matrix_rank(np.dot(A,Ak))\n",
    "        if r1 == r2:\n",
    "            return k\n",
    "        Ak = np.dot(A,Ak)\n",
    "        k += 1\n",
    "\n",
    "    return k\n",
    "\n",
    "\n",
    "# Problem 1\n",
    "def is_drazin(A, Ad, k):\n",
    "    \"\"\"Verify that a matrix Ad is the Drazin inverse of A.\n",
    "\n",
    "    Parameters:\n",
    "        A ((n,n) ndarray): An nxn matrix.\n",
    "        Ad ((n,n) ndarray): A candidate for the Drazin inverse of A.\n",
    "        k (int): The index of A.\n",
    "\n",
    "    Returns:\n",
    "        (bool) True of Ad is the Drazin inverse of A, False otherwise.\n",
    "    \"\"\"\n",
    "    #Test each of the three cases\n",
    "    if np.all(np.isclose(A@Ad, Ad@A)):\n",
    "        #Compute A^k once\n",
    "        B = np.linalg.matrix_power(A, k)\n",
    "        if np.all(np.isclose(B@A@Ad, B)):\n",
    "            if np.all(np.isclose(Ad@A@Ad, Ad)):\n",
    "                return True\n",
    "    #If the three properties don't hold, we return false\n",
    "    return False\n",
    "\n",
    "\n",
    "\n",
    "# Problem 2\n",
    "def drazin_inverse(A, tol=1e-4):\n",
    "    \"\"\"Compute the Drazin inverse of A.\n",
    "\n",
    "    Parameters:\n",
    "        A ((n,n) ndarray): An nxn matrix.\n",
    "\n",
    "    Returns:\n",
    "       ((n,n) ndarray) The Drazin inverse of A.\n",
    "    \"\"\"\n",
    "    #Implement Algorithm 15.1\n",
    "    n = A.shape[0]\n",
    "    f = lambda x: abs(x) > tol\n",
    "    g = lambda x: abs(x) <= tol\n",
    "    Q1, S, k1 = la.schur(A, sort=f)\n",
    "    Q2, T, k2 = la.schur(A, sort=g)\n",
    "    U = np.hstack((S[:,:k1], T[:,:n-k1]))\n",
    "    #Calculate U^-1 only once\n",
    "    U_inv = la.inv(U)\n",
    "    V = U_inv@A@U\n",
    "    Z = np.zeros((n,n))\n",
    "    if k1 != 0:\n",
    "        Z[:k1, :k1] = la.inv(V[:k1, :k1])\n",
    "    return U@Z@U_inv\n",
    "\n",
    "\n",
    "# Problem 3\n",
    "def effective_resistance(A):\n",
    "    \"\"\"Compute the effective resistance for each node in a graph.\n",
    "\n",
    "    Parameters:\n",
    "        A ((n,n) ndarray): The adjacency matrix of an undirected graph.\n",
    "\n",
    "    Returns:\n",
    "        ((n,n) ndarray) The matrix where the ijth entry is the effective\n",
    "        resistance from node i to node j.\n",
    "    \"\"\"\n",
    "    n = A.shape[0]\n",
    "    #Compute the Laplacian of A\n",
    "    L = np.diag(np.sum(A, axis=0)) - A\n",
    "    R = []\n",
    "    #Iteravely find L~_j^D and compute the jth row of R\n",
    "    for j in range(n):\n",
    "        L_j = L.copy()\n",
    "        temp = np.zeros(n)\n",
    "        temp[j] = 1\n",
    "        L_j[j] = temp\n",
    "        L_D = drazin_inverse(L_j)\n",
    "        R.append(list(np.diag(L_D)))\n",
    "\n",
    "    R = np.array(R)\n",
    "    #Make the diagonal entries zero\n",
    "    R = R - np.diag(np.diag(R))\n",
    "    return R\n",
    "\n",
    "\n",
    "\n",
    "# Problems 4 and 5\n",
    "class LinkPredictor:\n",
    "    \"\"\"Predict links between nodes of a network.\"\"\"\n",
    "\n",
    "    def __init__(self, filename='/Users/benchristensen/Desktop/ACME Python Labs/Volume1-Student-Materials/DrazinInverse/social_network.csv'):\n",
    "        \"\"\"Create the effective resistance matrix by constructing\n",
    "        an adjacency matrix.\n",
    "\n",
    "        Parameters:\n",
    "            filename (str): The name of a file containing graph data.\n",
    "        \"\"\"\n",
    "        node_names = []\n",
    "        with open(filename, 'r') as networkfile:\n",
    "            networkfile.readline()\n",
    "            lines = [line for line in networkfile]\n",
    "\n",
    "        for line in lines:\n",
    "            name1, name2 = line.strip().split(',')\n",
    "            node_names.append(name1)\n",
    "            node_names.append(name2)\n",
    "        #A list of all the names in the network\n",
    "        node_names = set(node_names)\n",
    "        n = len(node_names)\n",
    "        #A dictionary of the names so each name has an index\n",
    "        #for our adjacency matrix.\n",
    "        node_names = list(node_names)\n",
    "        name_dict = dict(zip(node_names, np.arange(n)))\n",
    "        #Adjacency Matrix\n",
    "        A = np.zeros((n,n))\n",
    "        for line in lines:\n",
    "            name1, name2 = line.strip().split(',')\n",
    "            A[name_dict[name1], name_dict[name2]] = 1\n",
    "        A = A + A.T\n",
    "        self.names = node_names\n",
    "        self.A = A\n",
    "        self.R = effective_resistance(A)\n",
    "        self.dict = name_dict\n",
    "\n",
    "\n",
    "    def predict_link(self, node=None):\n",
    "        \"\"\"Predict the next link, either for the whole graph or for a\n",
    "        particular node.\n",
    "\n",
    "        Parameters:\n",
    "            node (str): The name of a node in the network.\n",
    "\n",
    "        Returns:\n",
    "            node1, node2 (str): The names of the next nodes to be linked.\n",
    "                Returned if node is None.\n",
    "            node1 (str): The name of the next node to be linked to 'node'.\n",
    "                Returned if node is not None.\n",
    "\n",
    "        Raises:\n",
    "            ValueError: If node is not in the graph.\n",
    "        \"\"\"\n",
    "        #Find the two nodes if node is None\n",
    "        if node is None:\n",
    "            new = self.R*(self.A == 0)\n",
    "            minval = np.min(new[new > 0])\n",
    "            loc = np.where(new==minval)\n",
    "            return self.names[loc[0][0]], self.names[loc[1][0]]\n",
    "        #Find one node if node is not None\n",
    "        else:\n",
    "            #Raise error if not in the graph\n",
    "            try:\n",
    "                row = self.dict[node]\n",
    "            except Exception as e:\n",
    "                print(\"Node was not in the graph:\", e)\n",
    "            #Only check for nodes not already connected\n",
    "            relevant = self.R[row]*(self.A[row] == 0)\n",
    "            minval = np.min(relevant[relevant>0])\n",
    "            loc = np.where(relevant==minval)\n",
    "\n",
    "            return self.names[loc[0][0]]\n",
    "\n",
    "\n",
    "    def add_link(self, node1, node2):\n",
    "        \"\"\"Add a link to the graph between node 1 and node 2 by updating the\n",
    "        adjacency matrix and the effective resistance matrix.\n",
    "\n",
    "        Parameters:\n",
    "            node1 (str): The name of a node in the network.\n",
    "            node2 (str): The name of a node in the network.\n",
    "\n",
    "        Raises:\n",
    "            ValueError: If either node1 or node2 is not in the graph.\n",
    "        \"\"\"\n",
    "        try:\n",
    "            name1 = self.dict[node1]\n",
    "            name2 = self.dict[node2]\n",
    "        except Exception as e:\n",
    "            print(\"Node was not in the graph:\", e)\n",
    "        #Update the A and R matrices when adding a friend\n",
    "        self.A[name1, name2] += 1\n",
    "        self.A[name2, name1] += 1\n",
    "        self.R = effective_resistance(self.A)\n"
   ]
  },
  {
   "cell_type": "code",
   "execution_count": 7,
   "metadata": {},
   "outputs": [
    {
     "name": "stdout",
     "output_type": "stream",
     "text": [
      "True\n",
      "True\n"
     ]
    }
   ],
   "source": [
    "A = np.array([[1, 3, 0, 0],\n",
    "              [0, 1, 3, 0],\n",
    "              [0, 0, 1, 3],\n",
    "              [0, 0, 0, 0]])\n",
    "Ad = drazin_inverse(A)\n",
    "k = 1\n",
    "print(is_drazin(A, Ad, k))\n",
    "B = np.array([[1, 1, 3],\n",
    "              [5, 2, 6],\n",
    "              [-2, -1, -3]])\n",
    "Bd = np.zeros((3,3))\n",
    "k = 3\n",
    "print(is_drazin(B, Bd, k))"
   ]
  },
  {
   "cell_type": "code",
   "execution_count": 11,
   "metadata": {},
   "outputs": [
    {
     "data": {
      "text/plain": [
       "('Emily', 'Oliver')"
      ]
     },
     "execution_count": 11,
     "metadata": {},
     "output_type": "execute_result"
    }
   ],
   "source": [
    "Predictor = LinkPredictor()\n",
    "Predictor.predict_link()\n"
   ]
  },
  {
   "cell_type": "code",
   "execution_count": 12,
   "metadata": {},
   "outputs": [
    {
     "data": {
      "text/plain": [
       "'Carol'"
      ]
     },
     "execution_count": 12,
     "metadata": {},
     "output_type": "execute_result"
    }
   ],
   "source": [
    "Predictor.predict_link(\"Melanie\")"
   ]
  },
  {
   "cell_type": "code",
   "execution_count": 14,
   "metadata": {},
   "outputs": [
    {
     "name": "stdout",
     "output_type": "stream",
     "text": [
      "Sonia\n",
      "Piers\n",
      "Abigail\n"
     ]
    }
   ],
   "source": [
    "for i in range(3):\n",
    "    new_friend = Predictor.predict_link(\"Alan\")\n",
    "    Predictor.add_link(\"Alan\", new_friend)\n",
    "    print(new_friend)\n"
   ]
  },
  {
   "cell_type": "code",
   "execution_count": null,
   "metadata": {
    "collapsed": true
   },
   "outputs": [],
   "source": []
  }
 ],
 "metadata": {
  "kernelspec": {
   "display_name": "Python 3",
   "language": "python",
   "name": "python3"
  },
  "language_info": {
   "codemirror_mode": {
    "name": "ipython",
    "version": 3
   },
   "file_extension": ".py",
   "mimetype": "text/x-python",
   "name": "python",
   "nbconvert_exporter": "python",
   "pygments_lexer": "ipython3",
   "version": "3.6.1"
  }
 },
 "nbformat": 4,
 "nbformat_minor": 2
}
