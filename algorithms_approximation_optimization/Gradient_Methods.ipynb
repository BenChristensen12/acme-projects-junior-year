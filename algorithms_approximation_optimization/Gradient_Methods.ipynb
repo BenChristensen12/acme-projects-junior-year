{
 "cells": [
  {
   "cell_type": "markdown",
   "metadata": {},
   "source": [
    "    Ben Christensen\n",
    "    Math 323\n",
    "    2/27/18"
   ]
  },
  {
   "cell_type": "markdown",
   "metadata": {},
   "source": [
    "Code gradient descent methods and use them to solve linear and logistic regression problems."
   ]
  },
  {
   "cell_type": "code",
   "execution_count": 1,
   "metadata": {
    "collapsed": true
   },
   "outputs": [],
   "source": [
    "from scipy import optimize as opt\n",
    "import numpy as np\n",
    "import sympy as sy\n",
    "from scipy import linalg as la\n",
    "from matplotlib import pyplot as plt"
   ]
  },
  {
   "cell_type": "code",
   "execution_count": 2,
   "metadata": {
    "collapsed": true
   },
   "outputs": [],
   "source": [
    "# Problem 1\n",
    "def steepest_descent(f, Df, x0, maxiter=100, tol=1e-5):\n",
    "    \"\"\"Compute the minimizer of f using the exact method of steepest descent.\n",
    "\n",
    "    Parameters:\n",
    "        f (function): The objective function. Accepts a NumPy array of shape\n",
    "            (n,) and returns a float.\n",
    "        Df (function): The first derivative of f. Accepts and returns a NumPy\n",
    "            array of shape (n,).\n",
    "        x0 ((n,) ndarray): The initial guess.\n",
    "        maxiter (int): The maximum number of iterations to compute.\n",
    "        tol (float): The stopping tolerance.\n",
    "\n",
    "    Returns:\n",
    "        ((n,) ndarray): The approximate minimum of f.\n",
    "        (bool): Whether or not the algorithm converged.\n",
    "        (int): The number of iterations computed.\n",
    "    \"\"\"\n",
    "\n",
    "    xk = x0\n",
    "    #Create function to minimize\n",
    "    g = lambda a: f(xk - a*Df(xk).T)\n",
    "    converged = False\n",
    "    iters = 0\n",
    "    #Implement steepest descent\n",
    "    for k in range(maxiter):\n",
    "        #Save the derivative of xk so we only have to calculate it once\n",
    "        first_deriv = Df(xk)\n",
    "        #Find the descent-step that minimizes the function f\n",
    "        ak = opt.minimize_scalar(g).x\n",
    "        xk = xk - ak * first_deriv.T\n",
    "        iters += 1\n",
    "        #Break if slope at xk is small enough\n",
    "        if np.max(np.abs(first_deriv)) < tol:\n",
    "            converged = True\n",
    "            break\n",
    "\n",
    "    return xk, converged, iters\n",
    "\n",
    "\n",
    "# Problem 2\n",
    "def conjugate_gradient(Q, b, x0, tol=1e-4):\n",
    "    \"\"\"Solve the linear system Qx = b with the conjugate gradient algorithm.\n",
    "\n",
    "    Parameters:\n",
    "        Q ((n,n) ndarray): A positive-definite square matrix.\n",
    "        b ((n, ) ndarray): The right-hand side of the linear system.\n",
    "        x0 ((n,) ndarray): An initial guess for the solution to Qx = b.\n",
    "        tol (float): The convergence tolerance.\n",
    "\n",
    "    Returns:\n",
    "        ((n,) ndarray): The solution to the linear system Qx = b.\n",
    "        (bool): Whether or not the algorithm converged.\n",
    "        (int): The number of iterations computed.\n",
    "    \"\"\"\n",
    "    n = len(b)\n",
    "    rk = (Q @ x0) - b\n",
    "    dk = -rk\n",
    "    iters = 0\n",
    "    xk = x0\n",
    "    converged = False\n",
    "    #Implement Algorithm 13.1\n",
    "    for i in range(n+1):\n",
    "        ak = (rk @ rk) / (dk @ Q @ dk)\n",
    "        xk1 = xk + ak*dk\n",
    "        rk1 = rk + ak*(Q @ dk)\n",
    "        Bk1 = (rk1 @ rk1) / (rk @ rk)\n",
    "        dk1 = -rk1 + Bk1*dk\n",
    "        iters += 1\n",
    "        if la.norm(rk1) < tol:\n",
    "            converged = True\n",
    "            break\n",
    "        xk, rk, Bk, dk = xk1, rk1, Bk1, dk1\n",
    "\n",
    "    return xk1, converged, iters\n",
    "\n",
    "\n",
    "\n",
    "# Problem 3\n",
    "def nonlinear_conjugate_gradient(f, df, x0, maxiter=100, tol=1e-5):\n",
    "    \"\"\"Compute the minimizer of f using the nonlinear conjugate gradient\n",
    "    algorithm.\n",
    "\n",
    "    Parameters:\n",
    "        f (function): The objective function. Accepts a NumPy array of shape\n",
    "            (n,) and returns a float.\n",
    "        Df (function): The first derivative of f. Accepts and returns a NumPy\n",
    "            array of shape (n,).\n",
    "        x0 ((n,) ndarray): The initial guess.\n",
    "        maxiter (int): The maximum number of iterations to compute.\n",
    "        tol (float): The stopping tolerance.\n",
    "\n",
    "    Returns:\n",
    "        ((n,) ndarray): The approximate minimum of f.\n",
    "        (bool): Whether or not the algorithm converged.\n",
    "        (int): The number of iterations computed.\n",
    "    \"\"\"\n",
    "\n",
    "    rk = -df(x0).T\n",
    "    dk = rk\n",
    "    xk = x0\n",
    "    g = lambda a: f(xk + a*dk)\n",
    "    a0 = opt.minimize_scalar(g).x\n",
    "    xk = x0 + a0*dk\n",
    "    iters = 1\n",
    "    converged = False\n",
    "    #Implement Algorithm 13.2\n",
    "    while iters < maxiter:\n",
    "        rk1 = -df(xk).T\n",
    "        Bk = (rk1 @ rk1) / (rk @ rk)\n",
    "        dk = rk1 + Bk*dk\n",
    "        ak = opt.minimize_scalar(g).x\n",
    "        xk1 = xk + ak*dk\n",
    "        iters += 1\n",
    "        if la.norm(rk1) < tol:\n",
    "            converged = True\n",
    "            break\n",
    "        xk, rk = xk1, rk1\n",
    "\n",
    "    return xk1, converged, iters\n",
    "\n",
    "\n",
    "# Problem 4\n",
    "def prob4(filename=\"/Users/benchristensen/Desktop/ACME Python Labs/Volume2-Student-Materials/GradientMethods/linregression.txt\",\n",
    "          x0=np.array([-3482258, 15, 0, -2, -1, 0, 1829])):\n",
    "    \"\"\"Use conjugate_gradient() to solve the linear regression problem with\n",
    "    the data from the given file, the given initial guess, and the default\n",
    "    tolerance. Return the solution to the corresponding Normal Equations.\n",
    "    \"\"\"\n",
    "    data = np.loadtxt(filename)\n",
    "    m,n = data.shape\n",
    "    #Create matrix A\n",
    "    A = np.hstack((np.ones(m).reshape(-1, 1), data[:, 1:]))\n",
    "    y = data[:, 0]\n",
    "    Q = A.T @ A\n",
    "    b = A.T @ y\n",
    "    #Solve A.T @ A = A.T @ b\n",
    "    return conjugate_gradient(Q, b, x0)[0]\n",
    "\n",
    "\n",
    "# Problem 5\n",
    "class LogisticRegression1D:\n",
    "    \"\"\"Binary logistic regression classifier for one-dimensional data.\"\"\"\n",
    "\n",
    "    def fit(self, x, y, guess):\n",
    "        \"\"\"Choose the optimal beta values by minimizing the negative log\n",
    "        likelihood function, given data and outcome labels.\n",
    "\n",
    "        Parameters:\n",
    "            x ((n,) ndarray): An array of n predictor variables.\n",
    "            y ((n,) ndarray): An array of n outcome variables.\n",
    "            guess (array): Initial guess for beta.\n",
    "        \"\"\"\n",
    "        m = len(x)\n",
    "        neg_log = lambda B: np.sum([np.log(1+np.exp(-(B[0] + B[1]*x[i]))) + (1 - y[i])*(B[0] + B[1]*x[i]) for i in range(m)])\n",
    "        B = opt.fmin_cg(neg_log, guess, disp=False)\n",
    "        self.B0, self.B1 = B[0], B[1]\n",
    "\n",
    "    def predict(self, x):\n",
    "        \"\"\"Calculate the probability of an unlabeled predictor variable\n",
    "        having an outcome of 1.\n",
    "\n",
    "        Parameters:\n",
    "            x (float): a predictor variable with an unknown label.\n",
    "        \"\"\"\n",
    "        self.sigma = 1 / (1 + np.exp(-(self.B0 + self.B1 * x)))\n",
    "\n",
    "\n",
    "\n",
    "# Problem 6\n",
    "def prob6(filename=\"/Users/benchristensen/Desktop/ACME Python Labs/Volume2-Student-Materials/GradientMethods/challenger.npy\", \n",
    "          guess=np.array([20., -1.])):\n",
    "    \"\"\"Return the probability of O-ring damage at 31 degrees Farenheit.\n",
    "    Additionally, plot the logistic curve through the challenger data\n",
    "    on the interval [30, 100].\n",
    "\n",
    "    Parameters:\n",
    "        filename (str): The file to perform logistic regression on.\n",
    "                        Defaults to \"challenger.npy\"\n",
    "        guess (array): The initial guess for beta.\n",
    "                        Defaults to [20., -1.]\n",
    "    \"\"\"\n",
    "    data = np.load(filename)\n",
    "    x, y = data[:, 0], data[:, 1]\n",
    "    #Instantiate Class\n",
    "    Classy = LogisticRegression1D()\n",
    "    Classy.fit(x, y, guess)\n",
    "    domain = np.linspace(30, 100, 400)\n",
    "    Classy.predict(domain)\n",
    "\n",
    "\n",
    "    plt.plot(domain, Classy.sigma)\n",
    "    Classy.predict(31)\n",
    "    prediction = Classy.sigma\n",
    "    print(prediction)\n",
    "    plt.scatter(x, y, label=\"Previous Damage\")\n",
    "    plt.scatter(31, prediction, label=\"P(Damage) at Launch\")\n",
    "    plt.title(\"Probability of O-Ring Damage\")\n",
    "    plt.ylabel(\"O-Ring Damage\")\n",
    "    plt.xlabel(\"Temperature\")\n",
    "    plt.legend(loc=\"center right\")\n",
    "    plt.show()\n",
    "\n",
    "    return prediction"
   ]
  },
  {
   "cell_type": "code",
   "execution_count": 3,
   "metadata": {},
   "outputs": [
    {
     "name": "stdout",
     "output_type": "stream",
     "text": [
      "f(x, y, z) = x^4 + y^4 + z^4\n",
      "Answer: (array([ -4.17102443e-05,  -2.08551221e-05,  -4.17102443e-05]), True, 10)\n",
      "Rosenbrock function\n",
      "Answer: (array([ 1.00000865,  1.00001731]), True, 17498)\n"
     ]
    }
   ],
   "source": [
    "#Testing problem 1\n",
    "#Easy function\n",
    "f = lambda x: x[0]**4 + x[1]**4 + x[2]**4\n",
    "Df = lambda x: np.array([4*x[0]**3, 4*x[1]**3, 4*x[2]**3])\n",
    "print(\"f(x, y, z) = x^4 + y^4 + z^4\")\n",
    "print(\"Answer:\", steepest_descent(f, Df, x0 = np.array([2, 1, 2]), tol=1e-10))\n",
    "#Testing the Rosenbrock function\n",
    "def f(x):\n",
    "    return 100*(x[1] - x[0]**2)**2 + (1 - x[0])**2\n",
    "\n",
    "def Df(x):\n",
    "    return np.array([400*x[0]*(x[0]**2 - x[1]) + 2*x[0] - 2, -200*x[0]**2 + 200*x[1]])\n",
    "print(\"Rosenbrock function\")\n",
    "print(\"Answer:\", steepest_descent(f, Df, x0 = np.array([-2, 2]), maxiter=100000))"
   ]
  },
  {
   "cell_type": "code",
   "execution_count": 4,
   "metadata": {},
   "outputs": [
    {
     "name": "stdout",
     "output_type": "stream",
     "text": [
      "(array([ 0.5,  2. ]), True, 2)\n",
      "(array([ 0.50000028,  2.00000054]), True, 8)\n",
      "True\n"
     ]
    }
   ],
   "source": [
    "#Testing Problem 2\n",
    "Q = np.array([[2, 0], [0, 4]])\n",
    "b = np.array([1, 8])\n",
    "x0 = np.array([1, 3])\n",
    "f = lambda x: x[0]**2 + 2*x[1]**2 - x[0] - 8*x[1]\n",
    "Df = lambda x: np.array([2*x[0] - 1, 4*x[1] - 8])\n",
    "print(conjugate_gradient(Q, b, x0))\n",
    "print(steepest_descent(f, Df, x0))\n",
    "#General test of Prob #2\n",
    "n = 10\n",
    "A = np.random.random((n,n))\n",
    "Q = A.T @ A\n",
    "b, x0 = np.random.random((2,n))\n",
    "x = conjugate_gradient(Q, b, x0)[0]\n",
    "print(np.allclose(Q @ x, b))"
   ]
  },
  {
   "cell_type": "code",
   "execution_count": 5,
   "metadata": {},
   "outputs": [
    {
     "name": "stdout",
     "output_type": "stream",
     "text": [
      "(array([ 0.99999711,  0.99999423]), True, 308)\n"
     ]
    }
   ],
   "source": [
    "#Testing Problem 3\n",
    "def f(x):\n",
    "    return 100*(x[1] - x[0]**2)**2 + (1 - x[0])**2\n",
    "\n",
    "def Df(x):\n",
    "    return np.array([400*x[0]*(x[0]**2 - x[1]) + 2*x[0] - 2, -200*x[0]**2 + 200*x[1]])\n",
    "x0 = np.array([10, 10])\n",
    "print(nonlinear_conjugate_gradient(f, Df, x0, maxiter=1000))"
   ]
  },
  {
   "cell_type": "code",
   "execution_count": 6,
   "metadata": {},
   "outputs": [
    {
     "data": {
      "text/plain": [
       "array([ -3.48225800e+06,   1.50167080e+01,  -3.58101458e-02,\n",
       "        -2.02012486e+00,  -1.03319899e+00,  -5.11771269e-02,\n",
       "         1.82915588e+03])"
      ]
     },
     "execution_count": 6,
     "metadata": {},
     "output_type": "execute_result"
    }
   ],
   "source": [
    "prob4()"
   ]
  },
  {
   "cell_type": "code",
   "execution_count": 7,
   "metadata": {},
   "outputs": [
    {
     "name": "stdout",
     "output_type": "stream",
     "text": [
      "0.999609620514\n"
     ]
    },
    {
     "data": {
      "image/png": "[encoded data removed]",
      "text/plain": [
       "<Figure size 432x288 with 1 Axes>"
      ]
     },
     "metadata": {},
     "output_type": "display_data"
    },
    {
     "name": "stdout",
     "output_type": "stream",
     "text": [
      "Probability of O-ring damage at 31 degrees Farenheit: 0.999609620514\n"
     ]
    }
   ],
   "source": [
    "print(\"Probability of O-ring damage at 31 degrees Farenheit:\", prob6())"
   ]
  }
 ],
 "metadata": {
  "kernelspec": {
   "display_name": "Python 3",
   "language": "python",
   "name": "python3"
  },
  "language_info": {
   "codemirror_mode": {
    "name": "ipython",
    "version": 3
   },
   "file_extension": ".py",
   "mimetype": "text/x-python",
   "name": "python",
   "nbconvert_exporter": "python",
   "pygments_lexer": "ipython3",
   "version": "3.6.1"
  }
 },
 "nbformat": 4,
 "nbformat_minor": 2
}
