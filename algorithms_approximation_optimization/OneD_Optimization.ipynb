{
 "cells": [
  {
   "cell_type": "markdown",
   "metadata": {},
   "source": [
    "    Ben Christensen\n",
    "    Math 323\n",
    "    2/1/18"
   ]
  },
  {
   "cell_type": "markdown",
   "metadata": {},
   "source": [
    "Code one-dimensional optimzation algorithms including golden search, newton's method, secant method, and backtracking method."
   ]
  },
  {
   "cell_type": "code",
   "execution_count": 1,
   "metadata": {
    "collapsed": true
   },
   "outputs": [],
   "source": [
    "from math import sqrt\n",
    "import numpy as np\n",
    "from matplotlib import pyplot as plt\n",
    "import sympy as sy\n",
    "from scipy.optimize import linesearch\n",
    "from autograd import numpy as anp\n",
    "from autograd import grad"
   ]
  },
  {
   "cell_type": "code",
   "execution_count": 2,
   "metadata": {
    "collapsed": true
   },
   "outputs": [],
   "source": [
    "# Problem 1\n",
    "def golden_section(f, a, b, tol=1e-5, maxiters=15):\n",
    "    \"\"\"Use the golden section search to minimize the unimodal function f.\n",
    "\n",
    "    Parameters:\n",
    "        f (function): A unimodal, scalar-valued function on [a,b].\n",
    "        a (float): Left bound of the domain.\n",
    "        b (float): Right bound of the domain.\n",
    "        tol (float): The stopping tolerance.\n",
    "        maxiters (int): The maximum number of iterations to compute.\n",
    "\n",
    "    Returns:\n",
    "        (float): The approximate minimizer of f.\n",
    "        (bool): Whether or not the algorithm converged.\n",
    "        (int): The number of iterations computed.\n",
    "    \"\"\"\n",
    "    x_0 = (a+b)/2\n",
    "    phi = (1+sqrt(5))/2\n",
    "    iterations = 0\n",
    "    converged = False\n",
    "    for i in range(maxiters):\n",
    "        c = (b-a)/phi\n",
    "        _a = b-c\n",
    "        _b = a+c\n",
    "        if f(_a) <= f(_b):\n",
    "            b = _b\n",
    "        else:\n",
    "            a = _a\n",
    "        #New guess for minimum\n",
    "        x_1 = (a+b)/2\n",
    "        iterations += 1\n",
    "        if abs(x_0 - x_1) < tol:\n",
    "            converged = True\n",
    "            break\n",
    "        x_0 = x_1\n",
    "\n",
    "\n",
    "    return x_1, converged, iterations\n",
    "\n",
    "\n",
    "# Problem 2\n",
    "def newton1d(df, d2f, x0, tol=1e-5, maxiters=15):\n",
    "    \"\"\"Use Newton's method to minimize a function f:R->R.\n",
    "\n",
    "    Parameters:\n",
    "        df (function): The first derivative of f.\n",
    "        d2f (function): The second derivative of f.\n",
    "        x0 (float): An initial guess for the minimizer of f.\n",
    "        tol (float): The stopping tolerance.\n",
    "        maxiters (int): The maximum number of iterations to compute.\n",
    "\n",
    "    Returns:\n",
    "        (float): The approximate minimizer of f.\n",
    "        (bool): Whether or not the algorithm converged.\n",
    "        (int): The number of iterations computed.\n",
    "    \"\"\"\n",
    "\n",
    "    iterations = 0\n",
    "    converged = False\n",
    "    for i in range(maxiters):\n",
    "        #Implement equation 11.1\n",
    "        x_1 = x0 - df(x0)/d2f(x0)\n",
    "        iterations += 1\n",
    "        if abs(x0 - x_1) < tol:\n",
    "            converged = True\n",
    "            break\n",
    "        x0 = x_1\n",
    "\n",
    "\n",
    "    return x_1, converged, iterations\n",
    "\n",
    "\n",
    "# Problem 3\n",
    "def secant1d(df, x0, x1, tol=1e-5, maxiters=15):\n",
    "    \"\"\"Use the secant method to minimize a function f:R->R.\n",
    "\n",
    "    Parameters:\n",
    "        df (function): The first derivative of f.\n",
    "        x0 (float): An initial guess for the minimizer of f.\n",
    "        x1 (float): Another guess for the minimizer of f.\n",
    "        tol (float): The stopping tolerance.\n",
    "        maxiters (int): The maximum number of iterations to compute.\n",
    "\n",
    "    Returns:\n",
    "        (float): The approximate minimizer of f.\n",
    "        (bool): Whether or not the algorithm converged.\n",
    "        (int): The number of iterations computed.\n",
    "    \"\"\"\n",
    "    df1 = df(x0)\n",
    "    dfk = df(x1)\n",
    "    converged = False\n",
    "    iterations = 0\n",
    "    for i in range(maxiters):\n",
    "        #implement equation 11.3\n",
    "        #Calculate next xk\n",
    "        newx = (x0 * dfk - x1 * df1) / (dfk-df1)\n",
    "        iterations += 1\n",
    "        if abs(newx - x0) < tol:\n",
    "            converged = True\n",
    "            break\n",
    "        x0 = newx\n",
    "        df1 = df(x0)\n",
    "        #Calculate next xk\n",
    "        newx = (x1 * df1 - x0 * dfk) / (df1-dfk)\n",
    "        iterations += 1\n",
    "        if abs(newx - x1) < tol:\n",
    "            converged = True\n",
    "            break\n",
    "        x1 = newx\n",
    "        dfk = df(x1)\n",
    "\n",
    "    return newx, converged, iterations\n",
    "\n",
    "\n",
    "# Problem 4\n",
    "def backtracking(f, Df, x, p, alpha=1, rho=.9, c=1e-4):\n",
    "    \"\"\"Implement the backtracking line search to find a step size that\n",
    "    satisfies the Armijo condition.\n",
    "\n",
    "    Parameters:\n",
    "        f (function): A function f:R^n->R.\n",
    "        Df (function): The first derivative (gradient) of f.\n",
    "        x (float): The current approximation to the minimizer.\n",
    "        p (1-d array): The current search direction.\n",
    "        alpha (float): A large initial step length.\n",
    "        rho (float): Parameter in (0, 1).\n",
    "        c (float): Parameter in (0, 1).\n",
    "\n",
    "    Returns:\n",
    "        alpha (float): Optimal step size.\n",
    "    \"\"\"\n",
    "    Dfp = Df(x)@p\n",
    "    fx = f(x)\n",
    "    while (f(x+alpha*p) > fx + c*alpha*Dfp):\n",
    "        alpha = rho*alpha\n",
    "    return alpha\n"
   ]
  },
  {
   "cell_type": "code",
   "execution_count": 3,
   "metadata": {},
   "outputs": [
    {
     "data": {
      "image/png": "[encoded data removed]",
      "text/plain": [
       "<Figure size 432x288 with 1 Axes>"
      ]
     },
     "metadata": {},
     "output_type": "display_data"
    },
    {
     "name": "stdout",
     "output_type": "stream",
     "text": [
      "(1.385998267147321, True, 15)\n",
      "(-1.4473142236328096, True, 49)\n"
     ]
    },
    {
     "data": {
      "image/png": "[encoded data removed]",
      "text/plain": [
       "<Figure size 432x288 with 1 Axes>"
      ]
     },
     "metadata": {},
     "output_type": "display_data"
    },
    {
     "name": "stdout",
     "output_type": "stream",
     "text": [
      "(-0.16367722118190789, True, 11)\n",
      "0.0257472182027\n",
      "0.04710128697246249\n"
     ]
    }
   ],
   "source": [
    "#Testing Problem 1\n",
    "f = lambda x: np.exp(x) - 4*x\n",
    "a, b = 0, 3\n",
    "domain = np.linspace(0, 3, 100)\n",
    "plt.plot(domain, f(domain))\n",
    "minimizer = golden_section(f, a, b, .001)[0]\n",
    "plt.scatter(minimizer, f(minimizer))\n",
    "plt.show()\n",
    "print(golden_section(f, a, b, .001))\n",
    "#Testing Problem 2\n",
    "x = sy.symbols('x')\n",
    "df = sy.lambdify(x, sy.diff(x**2 + sy.sin(5*x)))\n",
    "d2f = sy.lambdify(x, sy.diff(sy.diff(x**2 + sy.sin(5*x))))\n",
    "x_0 = 0\n",
    "maxiter = 500\n",
    "tol=1e-10\n",
    "print(newton1d(df, d2f, x_0, tol, maxiter))\n",
    "#Testing Problem 3\n",
    "f = lambda x: x**2 + np.sin(x) + np.sin(10*x)\n",
    "df = lambda x: 2*x + np.cos(x) + 10*np.cos(10*x)\n",
    "x0, x1 = 0, -1\n",
    "minimizer = secant1d(df, x0, x1, tol, maxiter)[0]\n",
    "domain = np.linspace(-5, 5, 100)\n",
    "plt.plot(domain, f(domain))\n",
    "plt.scatter(minimizer, f(minimizer))\n",
    "plt.show()\n",
    "print(secant1d(df, x0, x1, tol, maxiter))\n",
    "#Testing problem 4\n",
    "f = lambda x: x[0]**2 + x[1]**2 + x[2]**2\n",
    "Df = lambda x: np.array([2*x[0], 2*x[1], 2*x[2]])\n",
    "x = anp.array([150., .03, 40.])\n",
    "p = anp.array([-.5, -100., -4.5])\n",
    "phi = lambda alpha: f(x+alpha*p)\n",
    "dphi = grad(phi)\n",
    "alpha, _ = linesearch.scalar_search_armijo(phi, phi(0.), dphi(0.))\n",
    "print(alpha)\n",
    "print(backtracking(f, Df, x, p))\n"
   ]
  }
 ],
 "metadata": {
  "kernelspec": {
   "display_name": "Python 3",
   "language": "python",
   "name": "python3"
  },
  "language_info": {
   "codemirror_mode": {
    "name": "ipython",
    "version": 3
   },
   "file_extension": ".py",
   "mimetype": "text/x-python",
   "name": "python",
   "nbconvert_exporter": "python",
   "pygments_lexer": "ipython3",
   "version": "3.6.1"
  }
 },
 "nbformat": 4,
 "nbformat_minor": 2
}
