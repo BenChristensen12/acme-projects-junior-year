{
 "cells": [
  {
   "cell_type": "markdown",
   "metadata": {},
   "source": [
    "    Ben Christensen\n",
    "    Math 347\n",
    "    2/13/18"
   ]
  },
  {
   "cell_type": "markdown",
   "metadata": {},
   "source": [
    "Using Monte Carlo Estimation:\n",
    "1. Estimate volume\n",
    "2. Estimate a 1-d integral\n",
    "3. Estimate a 2-d integral\n",
    "4. Find relative error of monte carlo (n-dimensional) integration"
   ]
  },
  {
   "cell_type": "code",
   "execution_count": 1,
   "metadata": {
    "collapsed": true
   },
   "outputs": [],
   "source": [
    "import numpy as np\n",
    "from scipy import linalg as la\n",
    "from scipy import stats\n",
    "from matplotlib import pyplot as plt\n",
    "# Problem 1\n",
    "def ball_volume(n, N=10000):\n",
    "    \"\"\"Estimate the volume of the n-dimensional unit ball.\n",
    "\n",
    "    Parameters:\n",
    "        n (int): The dimension of the ball. n=2 corresponds to the unit circle,\n",
    "            n=3 corresponds to the unit sphere, and so on.\n",
    "        N (int): The number of random points to sample.\n",
    "\n",
    "    Returns:\n",
    "        (float): An estimate for the volume of the n-dimensional unit ball.\n",
    "    \"\"\"\n",
    "    #Sample in square around unit ball\n",
    "    points = np.random.uniform(-1, 1, (n, N))\n",
    "    lengths = la.norm(points, axis=0)\n",
    "    num_within = np.count_nonzero(lengths < 1)\n",
    "    return 2**n * (num_within / N)\n",
    "\n",
    "\n",
    "# Problem 2\n",
    "def mc_integrate1d(f, a, b, N=10000):\n",
    "    \"\"\"Approximate the integral of f on the interval [a,b].\n",
    "\n",
    "    Parameters:\n",
    "        f (function): the function to integrate. Accepts and returns scalars.\n",
    "        a (float): the lower bound of interval of integration.\n",
    "        b (float): the lower bound of interval of integration.\n",
    "        N (int): The number of random points to sample.\n",
    "\n",
    "    Returns:\n",
    "        (float): An approximation of the integral of f over [a,b].\n",
    "\n",
    "    Example:\n",
    "        >>> f = lambda x: x**2\n",
    "        >>> mc_integrate1d(f, -4, 2)    # Integrate from -4 to 2.\n",
    "        23.734810301138324              # The true value is 24.\n",
    "    \"\"\"\n",
    "    return (b - a) * np.mean(f(np.random.uniform(a, b, N)))\n",
    "\n",
    "\n",
    "# Problem 3\n",
    "def mc_integrate(f, mins, maxs, N=10000):\n",
    "    \"\"\"Approximate the integral of f over the box defined by mins and maxs.\n",
    "\n",
    "    Parameters:\n",
    "        f (function): The function to integrate. Accepts and returns\n",
    "            1-D NumPy arrays of length n.\n",
    "        mins (list): the lower bounds of integration.\n",
    "        maxs (list): the upper bounds of integration.\n",
    "        N (int): The number of random points to sample.\n",
    "\n",
    "    Returns:\n",
    "        (float): An approximation of the integral of f over the domain.\n",
    "\n",
    "    Example:\n",
    "        # Define f(x,y) = 3x - 4y + y^2. Inputs are grouped into an array.\n",
    "        >>> f = lambda x: 3*x[0] - 4*x[1] + x[1]**2\n",
    "\n",
    "        # Integrate over the box [1,3]x[-2,1].\n",
    "        >>> mc_integrate(f, [1, -2], [3, 1])\n",
    "        53.562651072181225              # The true value is 54.\n",
    "    \"\"\"\n",
    "    V = 1\n",
    "    n = len(mins)\n",
    "    dims = np.array([maxs[i] - mins[i] for i in range(n)])\n",
    "    V = np.product(dims)\n",
    "    #Generate the sample and scale it\n",
    "    sample = np.random.uniform(0, 1, (n, N)).T * dims + mins\n",
    "    return V * np.mean(np.array([f(each) for each in sample]))\n",
    "\n",
    "\n",
    "# Problem 4\n",
    "def prob4():\n",
    "    \"\"\"Let n=4 and Omega = [-3/2,3/4]x[0,1]x[0,1/2]x[0,1].\n",
    "    - Define the joint distribution f of n standard normal random variables.\n",
    "    - Use SciPy to integrate f over Omega.\n",
    "    - Get 20 integer values of N that are roughly logarithmically spaced from\n",
    "        10**1 to 10**5. For each value of N, use mc_integrate() to compute 25\n",
    "        estimates of the integral of f over Omega with N samples, and average\n",
    "        the estimates together. Compute the relative error of each average.\n",
    "    - Plot the relative error against the sample size N on a log-log scale.\n",
    "        Also plot the line 1 / sqrt(N) for comparison.\n",
    "    \"\"\"\n",
    "    #Initialize variables and compute \"actual\" pdf of normal dist.\n",
    "    N = np.logspace(1, 5, 20)\n",
    "    n = 4\n",
    "    mins = [-1.5, 0, 0, 0]\n",
    "    maxs = [.75, 1, .5, 1]\n",
    "    f = lambda x: 1 / (2*np.pi)**(n/2) * np.exp(x@x / -2)\n",
    "    means, cov = np.zeros(4), np.eye(4)\n",
    "    actual = stats.mvn.mvnun(mins, maxs, means, cov)[0]\n",
    "    approximates = []\n",
    "    rel_errors = []\n",
    "    #Find montecarlo estimates of the integral of the pdf of the normal dist.\n",
    "    for i in N:\n",
    "        estimates = [mc_integrate(f, mins, maxs, int(i)) for j in range(25)]\n",
    "        estimate = np.mean(estimates)\n",
    "        approximates.append(estimate)\n",
    "        rel_errors.append(abs(actual - estimate) / abs(actual))\n",
    "    #Plot the relative errors\n",
    "    plt.loglog(N, rel_errors, label=\"Relative errors\")\n",
    "    plt.plot(N, 1/np.sqrt(N), label=\"line: 1/sqrt(N)\")\n",
    "    plt.legend(loc=\"upper right\")\n",
    "    plt.xlabel(\"N\")\n",
    "    plt.title(\"Relative error of Monte Carlo Integration\")\n",
    "    plt.show()\n"
   ]
  },
  {
   "cell_type": "code",
   "execution_count": 2,
   "metadata": {},
   "outputs": [
    {
     "data": {
      "image/png": "[encoded data removed]",
      "text/plain": [
       "<Figure size 432x288 with 1 Axes>"
      ]
     },
     "metadata": {},
     "output_type": "display_data"
    }
   ],
   "source": [
    "prob4()"
   ]
  },
  {
   "cell_type": "code",
   "execution_count": null,
   "metadata": {
    "collapsed": true
   },
   "outputs": [],
   "source": []
  }
 ],
 "metadata": {
  "kernelspec": {
   "display_name": "Python 3",
   "language": "python",
   "name": "python3"
  },
  "language_info": {
   "codemirror_mode": {
    "name": "ipython",
    "version": 3
   },
   "file_extension": ".py",
   "mimetype": "text/x-python",
   "name": "python",
   "nbconvert_exporter": "python",
   "pygments_lexer": "ipython3",
   "version": "3.6.1"
  }
 },
 "nbformat": 4,
 "nbformat_minor": 2
}
