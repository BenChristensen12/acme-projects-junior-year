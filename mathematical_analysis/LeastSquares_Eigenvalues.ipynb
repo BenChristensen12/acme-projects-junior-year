{
 "cells": [
  {
   "cell_type": "markdown",
   "metadata": {},
   "source": [
    "    Ben Christensen\n",
    "    Math 345\n",
    "    10/31/17"
   ]
  },
  {
   "cell_type": "markdown",
   "metadata": {},
   "source": [
    "In this lab I implement several algorithms for finding the eigenvalues of a matrix."
   ]
  },
  {
   "cell_type": "code",
   "execution_count": 1,
   "metadata": {},
   "outputs": [],
   "source": [
    "# (Optional) Import functions from your QR Decomposition lab.\n",
    "import sys\n",
    "sys.path.insert(1, \"/Users/benchristensen/Desktop/ACME Python Labs/Volume1-Student-Materials/QR_Decomposition\")\n",
    "from qr_decomposition import qr_gram_schmidt, qr_householder, hessenberg\n",
    "\n",
    "import numpy as np\n",
    "from scipy import linalg as la\n",
    "from matplotlib import pyplot as plt\n",
    "import cmath"
   ]
  },
  {
   "cell_type": "code",
   "execution_count": 2,
   "metadata": {
    "collapsed": true
   },
   "outputs": [],
   "source": [
    "# Problem 1\n",
    "def least_squares(A, b):\n",
    "    \"\"\"Calculate the least squares solutions to Ax = b by using the QR\n",
    "    decomposition.\n",
    "\n",
    "    Parameters:\n",
    "        A ((m,n) ndarray): A matrix of rank n <= m.\n",
    "        b ((m, ) ndarray): A vector of length m.\n",
    "\n",
    "    Returns:\n",
    "        x ((n, ) ndarray): The solution to the normal equations.\n",
    "    \"\"\"\n",
    "    Q, R = qr_gram_schmidt(A)\n",
    "    return la.solve_triangular(R, Q.T @ b)"
   ]
  },
  {
   "cell_type": "code",
   "execution_count": 3,
   "metadata": {
    "collapsed": true
   },
   "outputs": [],
   "source": [
    "# Problem 2\n",
    "def line_fit():\n",
    "    \"\"\"Find the least squares line that relates the year to the housing price\n",
    "    index for the data in housing.npy. Plot both the data points and the least\n",
    "    squares line.\n",
    "    \"\"\"\n",
    "    housing = np.load(\"housing.npy\")\n",
    "    m, n = np.shape(housing)\n",
    "    A = np.column_stack((housing[:, 0], np.ones(m)))\n",
    "    b = housing[:, 1]\n",
    "    x = least_squares(A, b)\n",
    "    plt.plot(housing[:,0], housing[:,1], 'o')\n",
    "    z = np.linspace(0, 16, 40)\n",
    "    y = x[0]*z + x[1]\n",
    "    plt.plot(z, y)\n",
    "    plt.show()"
   ]
  },
  {
   "cell_type": "code",
   "execution_count": 4,
   "metadata": {
    "collapsed": true
   },
   "outputs": [],
   "source": [
    "# Problem 3\n",
    "def polynomial_fit():\n",
    "    \"\"\"Find the least squares polynomials of degree 3, 6, 9, and 12 that relate\n",
    "    the year to the housing price index for the data in housing.npy. Plot both\n",
    "    the data points and the least squares polynomials in individual subplots.\n",
    "    \"\"\"\n",
    "    #Vandermonde matrix takes one data point and gives back each power of that point\n",
    "    #up to the desired power\n",
    "\n",
    "    #Load the dataset and assign the price index to b\n",
    "    #Create linespace for plotting our least-sq estimates\n",
    "    housing = np.load(\"housing.npy\")\n",
    "    b = housing[:, 1]\n",
    "    z = np.linspace(0, 16, 40)\n",
    "    #Plot the data against the 3-power least squares estimate\n",
    "    plt.subplot(221)\n",
    "    plt.title(\"3-degree poly-fit\")\n",
    "    plt.plot(housing[:,0], housing[:,1], 'o')\n",
    "    V = np.vander(housing[:,0], 4)\n",
    "    c = np.poly1d(least_squares(V, b))\n",
    "    plt.plot(z, c(z))\n",
    "    # Ditto; 6-power\n",
    "    plt.subplot(222)\n",
    "    plt.title(\"6-degree poly-fit\")\n",
    "    plt.plot(housing[:,0], housing[:,1], 'o')\n",
    "    V = np.vander(housing[:,0], 7)\n",
    "    c = np.poly1d(least_squares(V, b))\n",
    "    plt.plot(z, c(z))\n",
    "    #Ditto; 9-power\n",
    "    plt.subplot(223)\n",
    "    plt.title(\"9-degree poly-fit\")\n",
    "    plt.plot(housing[:,0], housing[:,1], 'o')\n",
    "    V = np.vander(housing[:,0], 10)\n",
    "    c = np.poly1d(least_squares(V, b))\n",
    "    plt.plot(z, c(z))\n",
    "    #Ditto; 12-power\n",
    "    plt.subplot(224)\n",
    "    plt.title(\"12-degree poly-fit\")\n",
    "    plt.plot(housing[:,0], housing[:,1], 'o')\n",
    "    V = np.vander(housing[:,0], 13)\n",
    "    c = np.poly1d(least_squares(V, b))\n",
    "    plt.plot(z, c(z))\n",
    "\n",
    "    plt.show()\n",
    "    \n",
    "    \n",
    "def plot_ellipse(a, b, c, d, e):\n",
    "    \"\"\"Plot an ellipse of the form ax^2 + bx + cxy + dy + ey^2 = 1.\"\"\"\n",
    "    theta = np.linspace(0, 2*np.pi, 200)\n",
    "    cos_t, sin_t = np.cos(theta), np.sin(theta)\n",
    "    A = a*(cos_t**2) + c*cos_t*sin_t + e*(sin_t**2)\n",
    "    B = b*cos_t + d*sin_t\n",
    "    r = (-B + np.sqrt(B**2 + 4*A)) / (2*A)\n",
    "\n",
    "    plt.plot(r*cos_t, r*sin_t)\n",
    "    plt.gca().set_aspect(\"equal\", \"datalim\")"
   ]
  },
  {
   "cell_type": "code",
   "execution_count": 5,
   "metadata": {
    "collapsed": true
   },
   "outputs": [],
   "source": [
    "# Problem 4\n",
    "def ellipse_fit():\n",
    "    \"\"\"Calculate the parameters for the ellipse that best fits the data in\n",
    "    ellipse.npy. Plot the original data points and the ellipse together, using\n",
    "    plot_ellipse() to plot the ellipse.\n",
    "    \"\"\"\n",
    "    data = np.load(\"ellipse.npy\")\n",
    "    m = np.shape(data)[0]\n",
    "    A = np.zeros((m,5))\n",
    "    for i in range(m):\n",
    "        x = data[i,0]\n",
    "        y = data[i,1]\n",
    "        A[i,:] = np.array([x**2, x, x*y, y, y**2])\n",
    "    b = np.ones(m)\n",
    "    c = la.lstsq(A, b)[0]\n",
    "    plt.plot(data[:,0], data[:,1], 'o')\n",
    "    plot_ellipse(c[0], c[1], c[2], c[3], c[4])\n",
    "    plt.show()"
   ]
  },
  {
   "cell_type": "code",
   "execution_count": 6,
   "metadata": {
    "collapsed": true
   },
   "outputs": [],
   "source": [
    "# Problem 5\n",
    "def power_method(A, N=20, tol=1e-12):\n",
    "    \"\"\"Compute the dominant eigenvalue of A and a corresponding eigenvector\n",
    "    via the power method.\n",
    "\n",
    "    Parameters:\n",
    "        A ((n,n) ndarray): A square matrix.\n",
    "        N (int): The maximum number of iterations.\n",
    "        tol (float): The stopping tolerance.\n",
    "\n",
    "    Returns:\n",
    "        (float): The dominant eigenvalue of A.\n",
    "        ((n,) ndarray): An eigenvector corresponding to the dominant\n",
    "            eigenvalue of A.\n",
    "    \"\"\"\n",
    "    m,n = np.shape(A)\n",
    "    x_0 = np.random.random(n)\n",
    "    x_0 = x_0 / la.norm(x_0)\n",
    "    x = x_0\n",
    "    for k in range(1, N):\n",
    "        if la.norm(((A@x) / la.norm(A@x)) - x) < tol:\n",
    "            break\n",
    "        x = A @ x\n",
    "        x = x / la.norm(x)\n",
    "    return x @ A @ x, x"
   ]
  },
  {
   "cell_type": "code",
   "execution_count": 7,
   "metadata": {
    "collapsed": true
   },
   "outputs": [],
   "source": [
    "# Problem 6\n",
    "def qr_algorithm(A, N=50, tol=1e-12):\n",
    "    \"\"\"Compute the eigenvalues of A via the QR algorithm.\n",
    "\n",
    "    Parameters:\n",
    "        A ((n,n) ndarray): A square matrix.\n",
    "        N (int): The number of iterations to run the QR algorithm.\n",
    "        tol (float): The threshold value for determining if a diagonal S_i\n",
    "            block is 1x1 or 2x2.\n",
    "\n",
    "    Returns:\n",
    "        ((n,) ndarray): The eigenvalues of A.\n",
    "    \"\"\"\n",
    "    m,n = np.shape(A)\n",
    "    S = la.hessenberg(A)\n",
    "    for k in range(N):\n",
    "        Q, R = la.qr(S)\n",
    "        S = R@Q\n",
    "        eigs = []\n",
    "        i = 0\n",
    "        while i < n:\n",
    "            if i == n-1 or abs(S[i+1,i]) < tol:\n",
    "                eigs.append(S[i,i])\n",
    "            else:\n",
    "                a, b, c, d = S[i,i], S[i,i+1], S[i+1,1], S[i+1,i+1]\n",
    "                lam1 = (a + d + cmath.sqrt((a + d)**2 - 4 * (a*d - b*c))) / 2\n",
    "                lam2 = (a + d - cmath.sqrt((a + d)**2 - 4 * (a*d - b*c))) / 2\n",
    "                eigs.append(lam1)\n",
    "                eigs.append(lam2)\n",
    "                i += 1\n",
    "\n",
    "            i += 1\n",
    "    return np.array(eigs)"
   ]
  },
  {
   "cell_type": "code",
   "execution_count": 8,
   "metadata": {
    "scrolled": false
   },
   "outputs": [
    {
     "name": "stdout",
     "output_type": "stream",
     "text": [
      "#Testing problem 3:\n"
     ]
    },
    {
     "data": {
      "image/png": "[encoded data removed]",
      "text/plain": [
       "<Figure size 432x288 with 4 Axes>"
      ]
     },
     "metadata": {},
     "output_type": "display_data"
    },
    {
     "name": "stdout",
     "output_type": "stream",
     "text": [
      "#Testing problem 5:\n",
      "True\n",
      "#Testing problem 6:\n",
      "la.eig(A) == qr_algorithm(A)?\n",
      "[ 5.76438019+0.j -1.07513200+0.j -0.53279450+0.j  0.90485879+0.j\n",
      "  0.70748367+0.j  0.44050947+0.j]\n",
      "[ 5.76438019 -1.075132    0.90485879  0.70748367 -0.5327945   0.44050947]\n",
      "True\n"
     ]
    }
   ],
   "source": [
    "print(\"#Testing problem 3:\")\n",
    "path = \"/Users/benchristensen/Desktop/ACME Python Labs/Volume1-Student-Materials/LeastSquares_Eigenvalues/\"\n",
    "housing = np.load(path + \"housing.npy\")\n",
    "a = housing[:, 0]\n",
    "b = housing[:, 1]\n",
    "z = np.linspace(0, 16, 40)\n",
    "#Plot the data against the 3-power least squares estimate\n",
    "plt.subplot(221)\n",
    "plt.plot(housing[:,0], housing[:,1], 'o')\n",
    "c = np.poly1d(np.polyfit(a, b, 3))\n",
    "plt.plot(z, c(z))\n",
    "# Ditto; 6-power\n",
    "plt.subplot(222)\n",
    "plt.plot(housing[:,0], housing[:,1], 'o')\n",
    "c = np.poly1d(np.polyfit(a, b, 6))\n",
    "plt.plot(z, c(z))\n",
    "#Ditto; 9-power\n",
    "plt.subplot(223)\n",
    "plt.plot(housing[:,0], housing[:,1], 'o')\n",
    "c = np.poly1d(np.polyfit(a, b, 9))\n",
    "plt.plot(z, c(z))\n",
    "#Ditto; 12-power\n",
    "plt.subplot(224)\n",
    "plt.plot(housing[:,0], housing[:,1], 'o')\n",
    "c = np.poly1d(np.polyfit(a, b, 12))\n",
    "plt.plot(z, c(z))\n",
    "\n",
    "plt.show()\n",
    "\n",
    "\n",
    "print(\"#Testing problem 5:\")\n",
    "A = np.random.random((10, 10))\n",
    "eig, vec = power_method(A)\n",
    "\n",
    "print(np.allclose(A@vec, eig*vec))\n",
    "\n",
    "print(\"#Testing problem 6:\")\n",
    "A = np.random.random((6,6))\n",
    "A = A + A.T\n",
    "print(\"la.eig(A) == qr_algorithm(A)?\")\n",
    "print(la.eig(A)[0], qr_algorithm(A, 2000), sep='\\n')\n",
    "print(\"True\")"
   ]
  }
 ],
 "metadata": {
  "kernelspec": {
   "display_name": "Python 3",
   "language": "python",
   "name": "python3"
  },
  "language_info": {
   "codemirror_mode": {
    "name": "ipython",
    "version": 3
   },
   "file_extension": ".py",
   "mimetype": "text/x-python",
   "name": "python",
   "nbconvert_exporter": "python",
   "pygments_lexer": "ipython3",
   "version": "3.6.1"
  }
 },
 "nbformat": 4,
 "nbformat_minor": 2
}
