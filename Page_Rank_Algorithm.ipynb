{
 "cells": [
  {
   "cell_type": "markdown",
   "metadata": {},
   "source": [
    "    Ben Christensen\n",
    "    Math 347\n",
    "    3/10/18"
   ]
  },
  {
   "cell_type": "markdown",
   "metadata": {},
   "source": [
    "Use the page rank algorithm to predict the top 6 NCAA teams based on 2013 games"
   ]
  },
  {
   "cell_type": "code",
   "execution_count": 1,
   "metadata": {
    "collapsed": true
   },
   "outputs": [],
   "source": [
    "import numpy as np\n",
    "from scipy.sparse import dok_matrix\n",
    "from scipy import linalg as la\n",
    "import pdb"
   ]
  },
  {
   "cell_type": "code",
   "execution_count": 2,
   "metadata": {
    "collapsed": true
   },
   "outputs": [],
   "source": [
    "# Problem 1\n",
    "def to_matrix(filename, n):\n",
    "    \"\"\"Return the nxn adjacency matrix described by datafile.\n",
    "\n",
    "    Parameters:\n",
    "        datafile (str): The name of a .txt file describing a directed graph.\n",
    "        Lines describing edges should have the form '<from node>\\t<to node>\\n'.\n",
    "        The file may also include comments.\n",
    "    n (int): The number of nodes in the graph described by datafile\n",
    "\n",
    "    Returns:\n",
    "        A SciPy sparse dok_matrix.\n",
    "    \"\"\"\n",
    "    A = dok_matrix((n,n))\n",
    "    #Create the adjacency matrix\n",
    "    with open(filename, 'r') as myfile:\n",
    "        for line in myfile:\n",
    "            try:\n",
    "                line = line.strip().split()\n",
    "                A[int(line[0]), int(line[1])] += 1\n",
    "            except:\n",
    "                print(\"Line skipped:\", line)\n",
    "\n",
    "    return A\n",
    "\n",
    "\n",
    "# Problem 2\n",
    "def calculateK(A,N):\n",
    "    \"\"\"Compute the matrix K as described in the lab.\n",
    "\n",
    "    Parameters:\n",
    "        A (ndarray): adjacency matrix of an array\n",
    "        N (int): the datasize of the array\n",
    "\n",
    "    Returns:\n",
    "        K (ndarray)\n",
    "    \"\"\"\n",
    "    #Change sink's row to all ones\n",
    "    for i, row in enumerate(A):\n",
    "        if not row.any():\n",
    "            A[i] = np.ones_like(A[i])\n",
    "    #Calculate the diagonals of the D matrix\n",
    "    D = np.sum(A, axis=1)\n",
    "\n",
    "    return (A / D.reshape((-1, 1))).T\n",
    "\n",
    "\n",
    "# Problem 3\n",
    "def iter_solve(adj, N=None, d=.85, tol=1E-5):\n",
    "    \"\"\"Return the page ranks of the network described by 'adj'.\n",
    "    Iterate through the PageRank algorithm until the error is less than 'tol'.\n",
    "\n",
    "    Parameters:\n",
    "        adj (ndarray): The adjacency matrix of a directed graph.\n",
    "        N (int): Restrict the computation to the first 'N' nodes of the graph.\n",
    "            If N is None (default), use the entire matrix.\n",
    "        d (float): The damping factor, a float between 0 and 1.\n",
    "        tol (float): Stop iterating when the change in approximations to the\n",
    "            solution is less than 'tol'.\n",
    "\n",
    "    Returns:\n",
    "        The approximation to the steady state.\n",
    "    \"\"\"\n",
    "    if N == None:\n",
    "        N = adj.shape[0]\n",
    "    p = np.random.random(N)\n",
    "    K = calculateK(adj, N)\n",
    "    #Normalize initial guess for p_0\n",
    "    p = p / la.norm(p)\n",
    "    p1 = d*K@p + ((1-d)/N)*np.ones(N)\n",
    "    while la.norm(p1 - p) > tol:\n",
    "        p = p1\n",
    "        p1 = d*K@p + ((1-d)/N)*np.ones(N)\n",
    "    return p1\n",
    "\n",
    "\n",
    "\n",
    "# Problem 4\n",
    "def eig_solve(adj, N=None, d=.85):\n",
    "    \"\"\"Return the page ranks of the network described by 'adj'. Use SciPy's\n",
    "    eigenvalue solver to calculate the steady state of the PageRank algorithm\n",
    "\n",
    "    Parameters:\n",
    "        adj (ndarray): The adjacency matrix of a directed graph.\n",
    "        N (int): Restrict the computation to the first 'N' nodes of the graph.\n",
    "            If N is None (default), use the entire matrix.\n",
    "        d (float): The damping factor, a float between 0 and 1.\n",
    "\n",
    "    Returns:\n",
    "        The approximation to the steady state.\n",
    "    \"\"\"\n",
    "    if N == None:\n",
    "        N = adj.shape[0]\n",
    "    K = calculateK(adj, N)\n",
    "    B = d*K + ((1-d)/N)*np.ones((N,N))\n",
    "\n",
    "    return la.eig(B)[1][:,0] / np.sum(la.eig(B)[1][:,0])\n",
    "\n",
    "\n",
    "# Problem 5\n",
    "def team_rank(filename='/Users/benchristensen/Desktop/ACME Python Labs/Volume1-Student-Materials/PageRank/ncaa2013.csv'):\n",
    "    \"\"\"Use iter_solve() to predict the rankings of the teams in the given\n",
    "    dataset of games. The dataset should have two columns, representing\n",
    "    winning and losing teams. Each row represents a game, with the winner on\n",
    "    the left, loser on the right. Parse this data to create the adjacency\n",
    "    matrix, and feed this into the solver to predict the team ranks.\n",
    "\n",
    "    Parameters:\n",
    "        filename (str): The name of the data file.\n",
    "    Returns:\n",
    "        ranks (list): The ranks of the teams from best to worst.\n",
    "        teams (list): The names of the teams, also from best to worst.\n",
    "    \"\"\"\n",
    "\n",
    "    teams = set()\n",
    "    matches = []\n",
    "    #Read in matches and create a set of every team name\n",
    "    with open(filename, 'r') as ncaafile:\n",
    "        ncaafile.readline()\n",
    "        for line in ncaafile:\n",
    "            match = line.strip().split(',')\n",
    "            matches.append(match)\n",
    "            teams.add(match[1])\n",
    "            teams.add(match[0])\n",
    "        #Create a dictionary with a number for every team name\n",
    "        teams = list(teams)\n",
    "        n = len(teams)\n",
    "        dictionary = dict(zip(teams, np.arange(n)))\n",
    "        A = dok_matrix((n,n))\n",
    "    for match in matches:\n",
    "        A[dictionary[match[1]], dictionary[match[0]]] = 1\n",
    "        #Solve for the ranking of the teams\n",
    "    ranks = iter_solve(A.toarray(), d=.7)\n",
    "    mask = np.flip(np.argsort(ranks), axis=0)\n",
    "    return ranks[mask], list(np.array(list(teams))[mask])\n",
    "\n"
   ]
  },
  {
   "cell_type": "code",
   "execution_count": 3,
   "metadata": {},
   "outputs": [
    {
     "name": "stdout",
     "output_type": "stream",
     "text": [
      "Line skipped: ['From', 'Node', 'To', 'Node']\n",
      "[ 0.43870689  0.02171029  0.02786154  0.02171029  0.02171029  0.02786154\n",
      "  0.04585394  0.39460775]\n",
      "[ 0.43869288  0.02171029  0.02786154  0.02171029  0.02171029  0.02786154\n",
      "  0.04585394  0.39459924]\n",
      "['Duke', 'Butler', 'Louisville', 'Illinois', 'Indiana', 'Miami FL']\n"
     ]
    }
   ],
   "source": [
    "A = to_matrix(\"/Users/benchristensen/Desktop/ACME Python Labs/Volume1-Student-Materials/PageRank/matrix.txt\", 8)\n",
    "K = calculateK(A.toarray(), 8)\n",
    "print(iter_solve(A.toarray()))\n",
    "print(eig_solve(A.toarray()))\n",
    "ranks, teams = team_rank()\n",
    "print(teams[0:6])"
   ]
  },
  {
   "cell_type": "code",
   "execution_count": 4,
   "metadata": {},
   "outputs": [
    {
     "data": {
      "text/plain": [
       "'/Users/benchristensen/Desktop/ACME Python Labs/Volume1-Student-Materials/ComplexFunctions'"
      ]
     },
     "execution_count": 4,
     "metadata": {},
     "output_type": "execute_result"
    }
   ],
   "source": [
    "pwd"
   ]
  },
  {
   "cell_type": "code",
   "execution_count": null,
   "metadata": {
    "collapsed": true
   },
   "outputs": [],
   "source": []
  }
 ],
 "metadata": {
  "kernelspec": {
   "display_name": "Python 3",
   "language": "python",
   "name": "python3"
  },
  "language_info": {
   "codemirror_mode": {
    "name": "ipython",
    "version": 3
   },
   "file_extension": ".py",
   "mimetype": "text/x-python",
   "name": "python",
   "nbconvert_exporter": "python",
   "pygments_lexer": "ipython3",
   "version": "3.6.1"
  }
 },
 "nbformat": 4,
 "nbformat_minor": 2
}
