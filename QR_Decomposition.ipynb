{
 "cells": [
  {
   "cell_type": "markdown",
   "metadata": {},
   "source": [
    "    Ben Christensen\n",
    "    Math 345\n",
    "    10/24/17\n",
    "    \n",
    "  "
   ]
  },
  {
   "cell_type": "markdown",
   "metadata": {},
   "source": [
    "Implement the QR Decomposition of a matrix with several methods."
   ]
  },
  {
   "cell_type": "code",
   "execution_count": 1,
   "metadata": {
    "collapsed": true
   },
   "outputs": [],
   "source": [
    "import numpy as np\n",
    "from scipy import linalg as la\n",
    "import pdb\n",
    "\n",
    "# Problem 1\n",
    "def qr_gram_schmidt(A):\n",
    "    \"\"\"Compute the reduced QR decomposition of A via Modified Gram-Schmidt.\n",
    "\n",
    "    Parameters:\n",
    "        A ((m,n) ndarray): A matrix of rank n.\n",
    "\n",
    "    Returns:\n",
    "        Q ((m,n) ndarray): An orthonormal matrix.\n",
    "        R ((n,n) ndarray): An upper triangular matrix.\n",
    "    \"\"\"\n",
    "    m,n = np.shape(A)\n",
    "    Q = np.copy(A)\n",
    "    R = np.zeros((n,n))\n",
    "    for i in range(n):\n",
    "        R[i,i] = la.norm(Q[:,i])\n",
    "        Q[:,i] = Q[:,i]/R[i,i]\n",
    "        for j in range(i+1, n):\n",
    "            R[i,j] = Q[:,j] @ Q[:,i]\n",
    "            Q[:,j] = Q[:,j] - R[i,j]*Q[:,i]\n",
    "    return Q,R\n",
    "\n",
    "\n",
    "# Problem 2\n",
    "def abs_det(A):\n",
    "    \"\"\"Use the QR decomposition to efficiently compute the absolute value of\n",
    "    the determinant of A.\n",
    "\n",
    "    Parameters:\n",
    "        A ((n,n) ndarray): A square matrix.\n",
    "\n",
    "    Returns:\n",
    "        (float) the absolute value of the determinant of A.\n",
    "    \"\"\"\n",
    "    return np.prod(np.diag(qr_gram_schmidt(A)[1]))\n",
    "\n",
    "\n",
    "# Problem 3\n",
    "def solve(A, b):\n",
    "    \"\"\"Use the QR decomposition to efficiently solve the system Ax = b.\n",
    "\n",
    "    Parameters:\n",
    "        A ((n,n) ndarray): An invertible matrix.\n",
    "        b ((n, ) ndarray): A vector of length n.\n",
    "\n",
    "    Returns:\n",
    "        x ((n, ) ndarray): The solution to the system Ax = b.\n",
    "    \"\"\"\n",
    "    Q, R = qr_gram_schmidt(A)\n",
    "    y = Q.T @ b\n",
    "    n = np.shape(b)[0]\n",
    "    x = np.zeros(n)\n",
    "    for i in range(n-1, -1, -1):\n",
    "        x[i] = y[i]\n",
    "        for j in range(n-1, i, -1):\n",
    "            x[i] = x[i] - R[i, j]*x[j]\n",
    "        x[i] = x[i] / R[i, i]\n",
    "    return x\n",
    "\n",
    "\n",
    "# Problem 4\n",
    "def qr_householder(A):\n",
    "    \"\"\"Compute the full QR decomposition of A via Householder reflections.\n",
    "\n",
    "    Parameters:\n",
    "        A ((m,n) ndarray): A matrix of rank n.\n",
    "\n",
    "    Returns:\n",
    "        Q ((m,m) ndarray): An orthonormal matrix.\n",
    "        R ((m,n) ndarray): An upper triangular matrix.\n",
    "    \"\"\"\n",
    "    m,n = np.shape(A)\n",
    "    R = np.copy(A)\n",
    "    Q = np.eye(m)\n",
    "    for k in range(n):\n",
    "        u = np.copy(R[k:, k])\n",
    "        s = np.sign(u[0])\n",
    "        sign = lambda x: 1 if x >= 0 else -1\n",
    "        u[0] = u[0] + sign(s)*la.norm(u)\n",
    "        u = u/la.norm(u)\n",
    "        R[k:, k:] = R[k:, k:] - (2 * (np.outer(u, np.dot(u, R[k:, k:]))))\n",
    "        Q[k:, :] = Q[k:, :] - (2 * (np.outer(u, np.dot(u, Q[k:, :]))))\n",
    "    return Q.T, R\n",
    "\n",
    "\n",
    "# Problem 5\n",
    "def hessenberg(A):\n",
    "    \"\"\"Compute the Hessenberg form H of A, along with the orthonormal matrix Q\n",
    "    such that A = QHQ^T.\n",
    "\n",
    "    Parameters:\n",
    "        A ((n,n) ndarray): An invertible matrix.\n",
    "\n",
    "    Returns:\n",
    "        H ((n,n) ndarray): The upper Hessenberg form of A.\n",
    "        Q ((n,n) ndarray): An orthonormal matrix.\n",
    "    \"\"\"\n",
    "    m,n = np.shape(A)\n",
    "    H = np.copy(A)\n",
    "    Q = np.eye(m)\n",
    "    for k in range(n-2):\n",
    "        u = np.copy(H[k+1:, k])\n",
    "        s = np.sign(u[0])\n",
    "        sign = lambda x: 1 if x>= 0 else -1\n",
    "        u[0] = u[0] + sign(s) * la.norm(u)\n",
    "        u = u / la.norm(u)\n",
    "        H[k+1:, k:] = H[k+1:, k:] - 2 * np.outer(u, np.dot(u, H[k+1:, k:]))\n",
    "        H[:, k+1:] = H[:, k+1:] - 2*np.outer(np.dot(H[:, k+1:], u), u)\n",
    "        Q[k+1:, :] = Q[k+1:, :] - 2*np.outer(u, np.dot(u, Q[k+1:, :]))\n",
    "    return H, Q.T"
   ]
  },
  {
   "cell_type": "code",
   "execution_count": 2,
   "metadata": {},
   "outputs": [
    {
     "name": "stdout",
     "output_type": "stream",
     "text": [
      "True\n",
      "True\n"
     ]
    }
   ],
   "source": [
    "A = np.random.random((8, 8))\n",
    "H, Q = hessenberg(A)\n",
    "print(np.allclose(np.triu(H, -1), H))\n",
    "print(np.allclose(Q @ H @ Q.T, A))"
   ]
  }
 ],
 "metadata": {
  "kernelspec": {
   "display_name": "Python 3",
   "language": "python",
   "name": "python3"
  },
  "language_info": {
   "codemirror_mode": {
    "name": "ipython",
    "version": 3
   },
   "file_extension": ".py",
   "mimetype": "text/x-python",
   "name": "python",
   "nbconvert_exporter": "python",
   "pygments_lexer": "ipython3",
   "version": "3.6.1"
  }
 },
 "nbformat": 4,
 "nbformat_minor": 2
}
