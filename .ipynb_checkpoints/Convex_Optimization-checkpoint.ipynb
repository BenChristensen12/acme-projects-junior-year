{
 "cells": [
  {
   "cell_type": "markdown",
   "metadata": {},
   "source": [
    "    Ben Christensen\n",
    "    Math 323\n",
    "    March 13, 2018"
   ]
  },
  {
   "cell_type": "markdown",
   "metadata": {},
   "source": [
    "Use the CVXOPT package to solve convex optimization problems."
   ]
  },
  {
   "cell_type": "code",
   "execution_count": 1,
   "metadata": {
    "collapsed": true
   },
   "outputs": [],
   "source": [
    "import numpy as np\n",
    "from cvxopt import matrix, solvers"
   ]
  },
  {
   "cell_type": "code",
   "execution_count": 2,
   "metadata": {
    "collapsed": true
   },
   "outputs": [],
   "source": [
    "solvers.options['show_progress'] = False\n",
    "def prob1():\n",
    "    \"\"\"Solve the following convex optimization problem:\n",
    "\n",
    "    minimize        2x + y + 3z\n",
    "    subject to      x + 2y          >= 3\n",
    "                    2x + 10y + 3z   >= 10\n",
    "                    x               >= 0\n",
    "                    y               >= 0\n",
    "                    z               >= 0\n",
    "\n",
    "    Returns (in order):\n",
    "        The optimizer x (ndarray)\n",
    "        The optimal value (sol['primal objective'])\n",
    "    \"\"\"\n",
    "    #initializes matrix objects according to standard form of opt. problem\n",
    "    c = matrix(np.array([2., 1., 3.]))\n",
    "    G = matrix(np.array([[-1., -2., 0.],\n",
    "                         [-2., -10., -3.],\n",
    "                         [-1., 0., 0.],\n",
    "                         [0., -1., 0.],\n",
    "                         [0., 0., -1.]]))\n",
    "    h = matrix(np.array([-3., -10., 0., 0., 0.]))\n",
    "    #Solve\n",
    "    sol = solvers.lp(c, G, h)\n",
    "    return np.ravel(sol['x']), sol['primal objective']\n",
    "\n",
    "\n",
    "\n",
    "\n",
    "# Problem 2\n",
    "def l1Min(A, b):\n",
    "    \"\"\"Calculate the solution to the optimization problem\n",
    "\n",
    "        minimize    ||x||_1\n",
    "        subject to  Ax = b\n",
    "\n",
    "    Parameters:\n",
    "        A ((m,n) ndarray)\n",
    "        b ((m, ) ndarray)\n",
    "\n",
    "    Returns:\n",
    "        The optimizer x (ndarray), without any slack variables u\n",
    "        The optimal value (sol['primal objective'])\n",
    "    \"\"\"\n",
    "    #Save shape of A\n",
    "    m,n = A.shape\n",
    "    #Initialize optimization problem in standard form\n",
    "    c = matrix(np.concatenate((np.ones(n), np.zeros(n))))\n",
    "    G = matrix(np.vstack((np.hstack((-np.eye(n), np.eye(n))),\n",
    "                          np.hstack((-np.eye(n), -np.eye(n))))))\n",
    "    h = matrix(np.zeros(2*n))\n",
    "    A = matrix(np.hstack((np.zeros((m,n)), A)))\n",
    "    b = matrix(b)\n",
    "    #Solve\n",
    "    sol = solvers.lp(c, G, h, A, b)\n",
    "\n",
    "    return np.ravel(sol['x'])[n:], sol['primal objective']\n",
    "\n",
    "\n",
    "# Problem 3\n",
    "def prob3():\n",
    "    \"\"\"Solve the transportation problem by converting the last equality constraint\n",
    "    into inequality constraints.\n",
    "\n",
    "    Returns (in order):\n",
    "        The optimizer x (ndarray)\n",
    "        The optimal value (sol['primal objective'])\n",
    "    \"\"\"\n",
    "    c = matrix([4., 7., 6., 8., 8., 9.])\n",
    "    #We add two inequalities to G in order to remove one equality from A\n",
    "    G = matrix(np.vstack((-1*np.eye(6),\n",
    "                          [0., 1., 0., 1., 0., 1.],\n",
    "                          [0., -1., 0., -1., 0., -1.])))\n",
    "    h = matrix(np.append(np.zeros(6), [8., -8.]))\n",
    "    A = matrix(np.array([[1., 1., 0., 0., 0., 0],\n",
    "                         [0., 0., 1., 1., 0., 0.],\n",
    "                         [0., 0., 0., 0., 1., 1.],\n",
    "                         [1., 0., 1., 0., 1., 0.]]))\n",
    "    b = matrix([7., 2., 4., 5.])\n",
    "\n",
    "    #Solve\n",
    "    sol = solvers.lp(c, G, h, A, b)\n",
    "\n",
    "    return np.ravel(sol['x']), sol['primal objective']\n",
    "\n",
    "# Problem 4\n",
    "def prob4():\n",
    "    \"\"\"Find the minimizer and minimum of\n",
    "\n",
    "    g(x,y,z) = (3/2)x^2 + 2xy + xz + 2y^2 + 2yz + (3/2)z^2 + 3x + z\n",
    "\n",
    "    Returns (in order):\n",
    "        The optimizer x (ndarray)\n",
    "        The optimal value (sol['primal objective'])\n",
    "    \"\"\"\n",
    "    #Initializ3e quadratic problem in standard form\n",
    "    P = matrix(np.array([[3., 2., 1.], [2., 4., 2.], [1., 2., 3.]]))\n",
    "    q = matrix([3., 0., 1.])\n",
    "    sol = solvers.qp(P, q)\n",
    "\n",
    "    return np.ravel(sol['x']), sol['primal objective']\n",
    "\n",
    "\n",
    "# Problem 5\n",
    "def l2Min(A, b):\n",
    "    \"\"\"Calculate the solution to the optimization problem\n",
    "\n",
    "        minimize    ||x||_2\n",
    "        subject to  Ax = b\n",
    "\n",
    "    Parameters:\n",
    "        A ((m,n) ndarray)\n",
    "        b ((m, ) ndarray)\n",
    "\n",
    "    Returns:\n",
    "        The optimizer x (ndarray)\n",
    "        The optimal value (sol['primal objective'])\n",
    "    \"\"\"\n",
    "    n = A.shape[1]\n",
    "    #We intialize P as follows because: 1/2*x.T(2I)x == x.Tx\n",
    "    P = matrix(2*np.eye(n))\n",
    "    # We need no second term in the quadratic function so q is the zero vector\n",
    "    q = matrix(np.zeros(n))\n",
    "    A = matrix(A)\n",
    "    b = matrix(b)\n",
    "    sol = solvers.qp(P, q, A=A, b=b)\n",
    "\n",
    "    return np.ravel(sol['x']), sol['primal objective']\n",
    "\n",
    "\n",
    "# Problem 6\n",
    "def prob6():\n",
    "    \"\"\"Solve the allocation model problem in 'ForestData.npy'.\n",
    "    Note that the first three rows of the data correspond to the first\n",
    "    analysis area, the second group of three rows correspond to the second\n",
    "    analysis area, and so on.\n",
    "\n",
    "    Returns (in order):\n",
    "        The optimizer x (ndarray)\n",
    "        The optimal value (sol['primal objective']*-1000)\n",
    "    \"\"\"\n",
    "    data = np.load(\"/Users/benchristensen/Desktop/ACME Python Labs/Volume2-Student-Materials/CVXOPT/ForestData.npy\")\n",
    "    #Initialize the problem using the data\n",
    "    c = matrix(-data[:, 3])\n",
    "    G = matrix(np.vstack((-data[:, 4],\n",
    "                          -data[:, 5],\n",
    "                          -data[:, 6],\n",
    "                          -np.eye(21))))\n",
    "    h = matrix(np.concatenate(([-40000., -5., -70.*788], np.zeros(21))))\n",
    "    A = []\n",
    "    b = []\n",
    "    temp = data[:, 1]\n",
    "    #Create the matrix A and sift through the data for b\n",
    "    for i in range(7):\n",
    "        A.append(np.insert(np.zeros(18), 3*i, [1., 1., 1.]))\n",
    "        b.append(temp[3*i])\n",
    "    A = matrix(np.array(A))\n",
    "    b = matrix(b)\n",
    "    #Solve the problem\n",
    "    sol = solvers.lp(c, G, h, A, b)\n",
    "\n",
    "    return np.ravel(sol['x']), sol['primal objective']*-1000"
   ]
  },
  {
   "cell_type": "code",
   "execution_count": 3,
   "metadata": {},
   "outputs": [
    {
     "data": {
      "text/plain": [
       "(array([ -1.14760924e-09,   1.50000000e+00,   6.95277519e-11]),\n",
       " 1.4999999996249473)"
      ]
     },
     "execution_count": 3,
     "metadata": {},
     "output_type": "execute_result"
    }
   ],
   "source": [
    "prob1()"
   ]
  },
  {
   "cell_type": "code",
   "execution_count": 4,
   "metadata": {
    "scrolled": true
   },
   "outputs": [
    {
     "name": "stdout",
     "output_type": "stream",
     "text": [
      "(array([-4.33999389,  0.9652075 , -4.44256345, -0.04814237,  6.15080483]), 15.946712022839238)\n"
     ]
    }
   ],
   "source": [
    "#Test problem 2\n",
    "A = np.array([[1.044,1.45, 3.094,3.082,3.316],[4.996,4.643,0.154,2.802,3.045],[0.053,4.978,2.31,3.503,1.281],[1.109,1.428,0.262,4.956,1.096],[0.126,4.856,3.652,4.971,2.111]])\n",
    "b = np.array([3.371,0.709,2.023,1.904,0.661])\n",
    "print(l1Min(A,b))"
   ]
  },
  {
   "cell_type": "code",
   "execution_count": 5,
   "metadata": {},
   "outputs": [
    {
     "data": {
      "text/plain": [
       "(array([  5.00000001e+00,   1.99999999e+00,  -7.02698725e-09,\n",
       "          2.00000001e+00,  -5.44879646e-09,   4.00000001e+00]),\n",
       " 85.99999998207508)"
      ]
     },
     "execution_count": 5,
     "metadata": {},
     "output_type": "execute_result"
    }
   ],
   "source": [
    "prob3()"
   ]
  },
  {
   "cell_type": "code",
   "execution_count": 6,
   "metadata": {},
   "outputs": [
    {
     "data": {
      "text/plain": [
       "(array([-1.5,  1. , -0.5]), -2.5)"
      ]
     },
     "execution_count": 6,
     "metadata": {},
     "output_type": "execute_result"
    }
   ],
   "source": [
    "prob4()"
   ]
  },
  {
   "cell_type": "code",
   "execution_count": 7,
   "metadata": {},
   "outputs": [
    {
     "data": {
      "text/plain": [
       "(array([  2.94268976e-08,   1.26029756e-07,   7.49999998e+01,\n",
       "          8.99999993e+01,   2.44248068e-07,   4.77280841e-07,\n",
       "          1.39999998e+02,   6.94010881e-07,   1.24406937e-06,\n",
       "          3.52187543e-08,   2.64064527e-08,   5.99999999e+01,\n",
       "          1.84043187e-07,   1.54000001e+02,   5.79999985e+01,\n",
       "          5.96632456e-08,   6.81083767e-08,   9.79999999e+01,\n",
       "          3.26969561e-08,   2.25240136e-08,   1.13000000e+02]),\n",
       " 322514998.9206208)"
      ]
     },
     "execution_count": 7,
     "metadata": {},
     "output_type": "execute_result"
    }
   ],
   "source": [
    "prob6()"
   ]
  }
 ],
 "metadata": {
  "kernelspec": {
   "display_name": "Python 3",
   "language": "python",
   "name": "python3"
  },
  "language_info": {
   "codemirror_mode": {
    "name": "ipython",
    "version": 3
   },
   "file_extension": ".py",
   "mimetype": "text/x-python",
   "name": "python",
   "nbconvert_exporter": "python",
   "pygments_lexer": "ipython3",
   "version": "3.6.1"
  }
 },
 "nbformat": 4,
 "nbformat_minor": 2
}
