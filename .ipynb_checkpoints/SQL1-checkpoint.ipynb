{
 "cells": [
  {
   "cell_type": "markdown",
   "metadata": {},
   "source": [
    "    Ben Christensen\n",
    "    Math 321\n",
    "    11/9/17"
   ]
  },
  {
   "cell_type": "markdown",
   "metadata": {},
   "source": [
    "Access and plot data using SQL"
   ]
  },
  {
   "cell_type": "code",
   "execution_count": 1,
   "metadata": {
    "collapsed": true
   },
   "outputs": [],
   "source": [
    "import sqlite3 as sql\n",
    "import csv\n",
    "from matplotlib import pyplot as plt"
   ]
  },
  {
   "cell_type": "code",
   "execution_count": 2,
   "metadata": {},
   "outputs": [],
   "source": [
    "path = \"/Users/benchristensen/Desktop/ACME Python Labs/Volume2-Student-Materials/SQL1/\"\n",
    "#row = tuple (one observation)\n",
    "#column = attribute or feature (data value)\n",
    "#schema = collection of attributes\n",
    "#Data names: NULL, INTEGER, REAL, TEXT\n",
    "# Problems 1, 2, and 4\n",
    "def student_db(db_file=path+\"students.db\", student_info=path+\"student_info.csv\",\n",
    "                                      student_grades=path+\"student_grades.csv\"):\n",
    "    \"\"\"Connect to the database db_file (or create it if it doesn’t exist).\n",
    "    Drop the tables MajorInfo, CourseInfo, StudentInfo, and StudentGrades from\n",
    "    the database (if they exist). Recreate the following (empty) tables in the\n",
    "    database with the specified columns.\n",
    "\n",
    "        - MajorInfo: MajorID (integers) and MajorName (strings).\n",
    "        - CourseInfo: CourseID (integers) and CourseName (strings).\n",
    "        - StudentInfo: StudentID (integers), StudentName (strings), and\n",
    "            MajorID (integers).\n",
    "        - StudentGrades: StudentID (integers), CourseID (integers), and\n",
    "            Grade (strings).\n",
    "\n",
    "    Next, populate the new tables with the following data and the data in\n",
    "    the specified 'student_info' 'student_grades' files.\n",
    "\n",
    "                MajorInfo                         CourseInfo\n",
    "            MajorID | MajorName               CourseID | CourseName\n",
    "            -------------------               ---------------------\n",
    "                1   | Math                        1    | Calculus\n",
    "                2   | Science                     2    | English\n",
    "                3   | Writing                     3    | Pottery\n",
    "                4   | Art                         4    | History\n",
    "\n",
    "    Finally, in the StudentInfo table, replace values of −1 in the MajorID\n",
    "    column with NULL values.\n",
    "\n",
    "    Parameters:\n",
    "        db_file (str): The name of the database file.\n",
    "        student_info (str): The name of a csv file containing data for the\n",
    "            StudentInfo table.\n",
    "        student_grades (str): The name of a csv file containing data for the\n",
    "            StudentGrades table.\n",
    "    \"\"\"\n",
    "    try:\n",
    "        with sql.connect(db_file) as conn:\n",
    "            cur = conn.cursor()\n",
    "            cur.execute(\"DROP TABLE IF EXISTS MajorInfo;\")\n",
    "            cur.execute(\"DROP TABLE IF EXISTS CourseInfo;\")\n",
    "            cur.execute(\"DROP TABLE IF EXISTS StudentInfo;\")\n",
    "            cur.execute(\"DROP TABLE IF EXISTS StudentGrades;\")\n",
    "            cur.execute(\"CREATE TABLE MajorInfo (MajorID INTEGER, MajorName TEXT);\")\n",
    "            cur.execute(\"CREATE TABLE CourseInfo (CourseID INTEGER, CourseName TEXT);\")\n",
    "            cur.execute(\"CREATE TABLE StudentInfo (StudentID INTEGER, StudentName TEXT, MajorID INTEGER);\")\n",
    "            cur.execute(\"CREATE TABLE StudentGrades (StudentID INTEGER, CourseID INTEGER, Grade TEXT);\")\n",
    "    finally:\n",
    "        conn.close()\n",
    "\n",
    "    with open(path+\"student_info.csv\", 'r') as infile:\n",
    "        student_info = list(csv.reader(infile))\n",
    "    with open(path+\"student_grades.csv\", 'r') as infile:\n",
    "        student_grades = list(csv.reader(infile))\n",
    "    for student in student_info:\n",
    "        student[0], student[-1] = int(student[0]), int(student[-1])\n",
    "    for grade in student_grades:\n",
    "        grade[0], grade[1] = int(grade[0]), int(grade[1])\n",
    "    try:\n",
    "        with sql.connect(db_file) as conn:\n",
    "            cur = conn.cursor()\n",
    "            cur.executemany(\"INSERT INTO StudentInfo Values(?,?,?);\", student_info)\n",
    "            cur.executemany(\"INSERT INTO StudentGrades Values(?,?,?);\", student_grades)\n",
    "            cur.execute(\"INSERT INTO MajorInfo Values(1, 'Math');\")\n",
    "            cur.execute(\"INSERT INTO MajorInfo Values(2, 'Science');\")\n",
    "            cur.execute(\"INSERT INTO MajorInfo Values(3, 'Writing');\")\n",
    "            cur.execute(\"INSERT INTO MajorInfo Values(4, 'Art');\")\n",
    "            cur.execute(\"INSERT INTO CourseInfo Values(1, 'Calculus');\")\n",
    "            cur.execute(\"INSERT INTO CourseInfo Values(2, 'English');\")\n",
    "            cur.execute(\"INSERT INTO CourseInfo Values(3, 'Pottery');\")\n",
    "            cur.execute(\"INSERT INTO CourseInfo Values(4, 'History');\")\n",
    "            #problem 4\n",
    "            cur.execute(\"UPDATE StudentInfo SET MajorID=NULL WHERE MajorID==-1;\")\n",
    "\n",
    "    finally:\n",
    "        conn.close()\n",
    "\n",
    "\n",
    "\n",
    "\n",
    "\n",
    "\n",
    "\n",
    "\n",
    "# Problems 3 and 4\n",
    "def earthquakes_db(db_file=path+\"earthquakes.db\", data_file=path+\"us_earthquakes.csv\"):\n",
    "    \"\"\"Connect to the database db_file (or create it if it doesn’t exist).\n",
    "    Drop the USEarthquakes table if it already exists, then create a new\n",
    "    USEarthquakes table with schema\n",
    "    (Year, Month, Day, Hour, Minute, Second, Latitude, Longitude, Magnitude).\n",
    "    Populate the table with the data from 'data_file'.\n",
    "\n",
    "    For the Minute, Hour, Second, and Day columns in the USEarthquakes table,\n",
    "    change all zero values to NULL. These are values where the data originally\n",
    "    was not provided.\n",
    "\n",
    "    Parameters:\n",
    "        db_file (str): The name of the database file.\n",
    "        data_file (str): The name of a csv file containing data for the\n",
    "            USEarthquakes table.\n",
    "    \"\"\"\n",
    "    with open(path+\"us_earthquakes.csv\", 'r') as infile:\n",
    "        earthquakes = list(csv.reader(infile))\n",
    "\n",
    "    for earthquake in earthquakes:\n",
    "        for i in range(len(earthquake)):\n",
    "            if i < 6:\n",
    "                earthquake[i] = int(earthquake[i])\n",
    "            else:\n",
    "                earthquake[i] = float(earthquake[i])\n",
    "\n",
    "    try:\n",
    "        with sql.connect(db_file) as conn:\n",
    "            cur = conn.cursor()\n",
    "            cur.execute(\"DROP TABLE IF EXISTS USEarthquakes;\")\n",
    "            cur.execute(\"CREATE TABLE USEarthquakes (Year INTEGER, \"\n",
    "                        \"Month INTEGER, Day INTEGER, Hour INTEGER, \"\n",
    "                        \"Minute INTEGER, Second INTEGER, Latitude REAL, \"\n",
    "                        \"Longitude REAL, Magnitude REAL);\")\n",
    "            cur.executemany(\"INSERT INTO USEarthquakes \"\n",
    "                            \"Values(?,?,?,?,?,?,?,?,?);\", earthquakes)\n",
    "            #problem 4\n",
    "            cur.execute(\"DELETE FROM USEarthquakes WHERE Magnitude==0;\")\n",
    "            cur.execute(\"UPDATE USEarthquakes SET Day = NULL WHERE Day==0;\")\n",
    "            cur.execute(\"UPDATE USEarthquakes SET Hour = NULL WHERE Hour==0;\")\n",
    "            cur.execute(\"UPDATE USEarthquakes SET Minute = NULL WHERE Minute==0;\")\n",
    "            cur.execute(\"UPDATE USEarthquakes SET Second = NULL WHERE Second==0;\")\n",
    "    finally:\n",
    "        conn.close()\n",
    "\n",
    "\n",
    "\n",
    "# Problem 5\n",
    "def prob5(db_file=path+\"students.db\"):\n",
    "    \"\"\"Query the database for all tuples of the form (StudentName, CourseName)\n",
    "    where that student has an 'A' or 'A+'' grade in that course. Return the\n",
    "    list of tuples.\n",
    "\n",
    "    Parameters:\n",
    "        db_file (str): the name of the database to connect to.\n",
    "\n",
    "    Returns:\n",
    "        (list): the complete result set for the query.\n",
    "    \"\"\"\n",
    "    try:\n",
    "        with sql.connect(db_file) as conn:\n",
    "            cur = conn.cursor()\n",
    "            cur.execute(\"SELECT SI.StudentName, CI.CourseName \"\n",
    "                        \"FROM StudentInfo AS SI, CourseInfo AS CI, \"\n",
    "                        \"StudentGrades AS SG \"\n",
    "                        \"WHERE SI.StudentID == SG.StudentID AND (SG.Grade == 'A' OR SG.Grade == 'A+') AND CI.CourseID == SG.CourseID;\")\n",
    "            query = cur.fetchall()\n",
    "\n",
    "    finally:\n",
    "        conn.close()\n",
    "\n",
    "    return query\n",
    "\n",
    "\n",
    "# Problem 6\n",
    "def prob6(db_file=path+\"earthquakes.db\"):\n",
    "    \"\"\"Create a single figure with two subplots: a histogram of the magnitudes\n",
    "    of the earthquakes from 1800-1900, and a histogram of the magnitudes of the\n",
    "    earthquakes from 1900-2000. Also calculate and return the average magnitude\n",
    "    of all of the earthquakes in the database.\n",
    "\n",
    "    Parameters:\n",
    "        db_file (str): the name of the database to connect to.\n",
    "\n",
    "    Returns:\n",
    "        (float): The average magnitude of all earthquakes in the database.\n",
    "    \"\"\"\n",
    "\n",
    "    try:\n",
    "        with sql.connect(db_file) as conn:\n",
    "            cur = conn.cursor()\n",
    "            cur.execute(\"SELECT Magnitude FROM USEarthquakes \"\n",
    "                        \"WHERE Year >= 1800 AND Year < 1900;\")\n",
    "            nineteenth = [t[0] for t in cur.fetchall()]\n",
    "            cur.execute(\"SELECT Magnitude FROM USEarthquakes \"\n",
    "                        \"WHERE Year >= 1900 AND Year < 2000;\")\n",
    "            twentieth = [t[0] for t in cur.fetchall()]\n",
    "            cur.execute(\"SELECT Magnitude FROM USEarthquakes\")\n",
    "            magnitudes = [t[0] for t in cur.fetchall()]\n",
    "            average = sum(magnitudes) / len(magnitudes)\n",
    "    finally:\n",
    "        conn.close()\n",
    "\n",
    "    plt.subplot(121)\n",
    "    plt.hist(nineteenth)\n",
    "    plt.title(\"1800's\")\n",
    "    plt.ylim(0, 900)\n",
    "\n",
    "    plt.subplot(122)\n",
    "    plt.hist(twentieth)\n",
    "    plt.title(\"1900's\")\n",
    "    plt.ylim(0, 900)\n",
    "\n",
    "    plt.show()\n",
    "    return average\n"
   ]
  },
  {
   "cell_type": "code",
   "execution_count": 3,
   "metadata": {
    "scrolled": true
   },
   "outputs": [
    {
     "name": "stdout",
     "output_type": "stream",
     "text": [
      "(401767594, 'Michelle Fernandez', 1)\n",
      "(678665086, 'Gilbert Chapman', None)\n",
      "(553725811, 'Roberta Cook', 2)\n",
      "(886308195, 'Rene Cross', 3)\n",
      "(103066521, 'Cameron Kim', 4)\n",
      "(821568627, 'Mercedes Hall', None)\n",
      "(206208438, 'Kristopher Tran', 2)\n",
      "(341324754, 'Cassandra Holland', 1)\n",
      "(262019426, 'Alfonso Phelps', None)\n",
      "(622665098, 'Sammy Burke', 2)\n"
     ]
    }
   ],
   "source": [
    "student_db()\n",
    "with sql.connect(path+\"students.db\") as conn:\n",
    "    cur = conn.cursor()\n",
    "    for row in cur.execute(\"SELECT * FROM StudentInfo;\"):\n",
    "        print(row)\n",
    "\n",
    "earthquakes_db()\n",
    "with sql.connect(path+\"earthquakes.db\") as conn:\n",
    "    cur = conn.cursor()\n",
    "    for row in cur.execute(\"SELECT * FROM USEarthquakes;\"):\n",
    "        #print(row)\n",
    "        pass\n",
    "\n",
    "\n",
    "earthquakes_db()\n",
    "with sql.connect(path+\"earthquakes.db\") as conn:\n",
    "    cur = conn.cursor()\n",
    "    cur.execute(\"SELECT Magnitude FROM USEarthquakes;\")\n",
    "    magnitudes = cur.fetchall()\n",
    "    #print(magnitudes)"
   ]
  },
  {
   "cell_type": "code",
   "execution_count": 4,
   "metadata": {},
   "outputs": [
    {
     "data": {
      "text/plain": [
       "[('Gilbert Chapman', 'History'),\n",
       " ('Gilbert Chapman', 'Pottery'),\n",
       " ('Rene Cross', 'Calculus'),\n",
       " ('Mercedes Hall', 'English'),\n",
       " ('Kristopher Tran', 'English'),\n",
       " ('Cameron Kim', 'History'),\n",
       " ('Sammy Burke', 'Calculus')]"
      ]
     },
     "execution_count": 4,
     "metadata": {},
     "output_type": "execute_result"
    }
   ],
   "source": [
    "prob5()"
   ]
  },
  {
   "cell_type": "code",
   "execution_count": 5,
   "metadata": {},
   "outputs": [
    {
     "data": {
      "image/png": "[encoded data removed]",
      "text/plain": [
       "<Figure size 432x288 with 2 Axes>"
      ]
     },
     "metadata": {},
     "output_type": "display_data"
    },
    {
     "data": {
      "text/plain": [
       "5.24777123633309"
      ]
     },
     "execution_count": 5,
     "metadata": {},
     "output_type": "execute_result"
    }
   ],
   "source": [
    "prob6()"
   ]
  },
  {
   "cell_type": "code",
   "execution_count": null,
   "metadata": {
    "collapsed": true
   },
   "outputs": [],
   "source": []
  }
 ],
 "metadata": {
  "kernelspec": {
   "display_name": "Python 3",
   "language": "python",
   "name": "python3"
  },
  "language_info": {
   "codemirror_mode": {
    "name": "ipython",
    "version": 3
   },
   "file_extension": ".py",
   "mimetype": "text/x-python",
   "name": "python",
   "nbconvert_exporter": "python",
   "pygments_lexer": "ipython3",
   "version": "3.6.1"
  }
 },
 "nbformat": 4,
 "nbformat_minor": 2
}
